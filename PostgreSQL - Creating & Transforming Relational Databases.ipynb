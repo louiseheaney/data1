{
 "cells": [
  {
   "cell_type": "code",
   "execution_count": null,
   "id": "78628add",
   "metadata": {},
   "outputs": [],
   "source": [
    "# Create and Drop Tables\n",
    "\n",
    "CREATE TABLE professors (\n",
    " firstname text,\n",
    " lastname text\n",
    ");\n",
    "\n",
    "\n",
    "CREATE TABLE universities (\n",
    "   university_shortname text, \n",
    "   university text,\n",
    "   university_city text \n",
    ");\n",
    "\n",
    "\n",
    "CREATE TABLE affiliations (\n",
    "   organization text, \n",
    "   university text,\n",
    "   university_shortname text \n",
    ");\n",
    "\n",
    "DROP TABLE university_professors;"
   ]
  },
  {
   "cell_type": "code",
   "execution_count": null,
   "id": "371aec78",
   "metadata": {},
   "outputs": [],
   "source": [
    "# Add, Drop and Rename Columns\n",
    "\n",
    "ALTER TABLE professors\n",
    "ADD COLUMN university_shortname text;\n",
    "\n",
    "ALTER TABLE affiliations\n",
    "RENAME COLUMN organization TO organisation;\n",
    "\n",
    "ALTER TABLE affiliations\n",
    "DROP COLUMN university_shortname;\n"
   ]
  },
  {
   "cell_type": "code",
   "execution_count": null,
   "id": "ee8fd38e",
   "metadata": {},
   "outputs": [],
   "source": [
    "INSERT INTO professors \n",
    "SELECT DISTINCT firstname, lastname, university_shortname \n",
    "FROM university_professors;"
   ]
  },
  {
   "cell_type": "code",
   "execution_count": null,
   "id": "029e474b",
   "metadata": {},
   "outputs": [],
   "source": [
    "# Create New Table\n",
    "\n",
    "CREATE TABLE transactions (\n",
    " transaction_date date, \n",
    " amount integer,\n",
    " fee text\n",
    ");\n",
    "\n",
    "# Insert a record\n",
    "\n",
    "INSERT INTO transactions (transaction_date, amount, fee) \n",
    "VALUES ('2018-09-24', 5454, '30');\n",
    "\n",
    "# Calculate the net amount as amount + fee\n",
    "\n",
    "SELECT transaction_date, amount + CAST(fee AS integer) AS net_amount \n",
    "FROM transactions;"
   ]
  },
  {
   "cell_type": "code",
   "execution_count": null,
   "id": "42eadeac",
   "metadata": {},
   "outputs": [],
   "source": [
    "# Change types with ALTER COLUMN\n",
    "\n",
    "ALTER TABLE professors\n",
    "ALTER COLUMN university_shortname\n",
    "TYPE char(3);\n",
    "\n",
    "ALTER TABLE professors\n",
    "ALTER COLUMN firstname\n",
    "TYPE varchar(64);\n",
    "\n",
    "ALTER TABLE professors \n",
    "ALTER COLUMN firstname \n",
    "TYPE varchar(16)\n",
    "USING SUBSTRING(firstname FROM 1 FOR 16)\n"
   ]
  },
  {
   "cell_type": "code",
   "execution_count": null,
   "id": "7be16d28",
   "metadata": {},
   "outputs": [],
   "source": [
    "# Disallow NULL values\n",
    "\n",
    "ALTER TABLE professors \n",
    "ALTER COLUMN firstname SET NOT NULL;\n",
    "\n",
    "ALTER TABLE professors\n",
    "ALTER COLUMN lastname\n",
    "SET NOT NULL"
   ]
  },
  {
   "cell_type": "code",
   "execution_count": null,
   "id": "a55a3294",
   "metadata": {},
   "outputs": [],
   "source": [
    "# Unique Columns in New Tables\n",
    "\n",
    "CREATE TABLE courses (\n",
    " course_code UNIQUE\n",
    ");\n",
    "\n",
    "# Unique Columns in Tables that already exist\n",
    "\n",
    "ALTER TABLE universities\n",
    "ADD CONSTRAINT university_shortname_unq UNIQUE(university_shortname);\n",
    "\n",
    "ALTER TABLE organisations\n",
    "ADD CONSTRAINT organisation_unq UNIQUE(organisation);\n"
   ]
  },
  {
   "cell_type": "code",
   "execution_count": null,
   "id": "a8b3d1be",
   "metadata": {},
   "outputs": [],
   "source": [
    "# Add key constraints to tables\n",
    "\n",
    "ALTER TABLE organisations\n",
    "RENAME COLUMN organisation TO id;\n",
    "\n",
    "ALTER TABLE organisations\n",
    "ADD CONSTRAINT organisation_pk PRIMARY KEY (id);\n",
    "\n",
    "ALTER TABLE universities\n",
    "RENAME university_shortname TO id;\n",
    "\n",
    "ALTER TABLE universities\n",
    "ADD CONSTRAINT university_pk PRIMARY KEY (id);"
   ]
  },
  {
   "cell_type": "code",
   "execution_count": null,
   "id": "c08b72b2",
   "metadata": {},
   "outputs": [],
   "source": [
    "SELECT COUNT(DISTINCT(make, model)) \n",
    "FROM cars;\n",
    "\n",
    "ALTER TABLE cars\n",
    "ADD COLUMN id varchar(128);\n",
    "\n",
    "UPDATE cars\n",
    "SET id = CONCAT(make, model);\n",
    "\n",
    "ALTER TABLE cars\n",
    "ADD CONSTRAINT id_pk PRIMARY KEY(id)\n",
    "l"
   ]
  },
  {
   "cell_type": "code",
   "execution_count": null,
   "id": "d340cb18",
   "metadata": {},
   "outputs": [],
   "source": [
    "CREATE TABLE students (\n",
    "  last_name VARCHAR(128) NOT NULL,\n",
    "  ssn INTEGER PRIMARY KEY,\n",
    "  phone_no CHAR(12)\n",
    ");"
   ]
  },
  {
   "cell_type": "code",
   "execution_count": null,
   "id": "355dce61",
   "metadata": {},
   "outputs": [],
   "source": [
    "ALTER TABLE professors\n",
    "RENAME COLUMN university_shortname TO university_id;\n",
    "\n",
    "ALTER TABLE professors\n",
    "ADD CONSTRAINT professors_fkey FOREIGN KEY (university_id) REFERENCES universities (id);\n",
    "\n",
    "INSERT INTO professors (firstname, lastname, university_id)\n",
    "VALUES ('Albert', 'Einstein', 'UZH');"
   ]
  },
  {
   "cell_type": "code",
   "execution_count": null,
   "id": "afdeb2da",
   "metadata": {},
   "outputs": [],
   "source": [
    "SELECT professors.lastname, universities.id, universities.university_city\n",
    "FROM professors\n",
    "LEFT JOIN universities\n",
    "ON professors.university_id = universities.id\n",
    "WHERE universities.university_city = 'Zurich';"
   ]
  },
  {
   "cell_type": "code",
   "execution_count": null,
   "id": "a53a179d",
   "metadata": {},
   "outputs": [],
   "source": [
    "ALTER TABLE AFFILIATIONS\n",
    "ADD COLUMN professor_id integer REFERENCES professors (id);\n",
    "\n",
    "ALTER TABLE affiliations\n",
    "RENAME organisation TO organisation_id;\n",
    "\n",
    "ALTER TABLE affiliations\n",
    "ADD CONSTRAINT affiliations_organisation_fkey FOREIGN KEY (organisation_id) REFERENCES organisations (id);\n",
    "\n",
    "SELECT * FROM affiliations LIMIT 10;"
   ]
  },
  {
   "cell_type": "code",
   "execution_count": null,
   "id": "aa7f5f45",
   "metadata": {},
   "outputs": [],
   "source": [
    "UPDATE affiliations\n",
    "SET professor_id = professors.id\n",
    "FROM professors\n",
    "WHERE affiliations.firstname = professors.firstname AND affiliations.lastname = professors.lastname;\n",
    "\n",
    "SELECT * FROM affiliations LIMIT 10;"
   ]
  },
  {
   "cell_type": "code",
   "execution_count": null,
   "id": "30cc83e5",
   "metadata": {},
   "outputs": [],
   "source": [
    "# Drop the firstname column\n",
    "ALTER TABLE affiliations\n",
    "DROP COLUMN firstname;\n",
    "\n",
    "# Drop the lastname column\n",
    "ALTER TABLE affiliations\n",
    "DROP COLUMN lastname;"
   ]
  },
  {
   "cell_type": "code",
   "execution_count": null,
   "id": "4af4c9dd",
   "metadata": {},
   "outputs": [],
   "source": [
    "SELECT constraint_name, table_name, constraint_type\n",
    "FROM information_schema.table_constraints\n",
    "WHERE constraint_type = 'FOREIGN KEY';\n",
    "\n",
    "ALTER TABLE affiliations\n",
    "DROP CONSTRAINT affiliations_organization_id_fkey;\n",
    "\n",
    "ALTER TABLE affiliations\n",
    "ADD CONSTRAINT affiliations_organisation_id_fkey FOREIGN KEY (organisation_id) REFERENCES organisations (id) ON DELETE CASCADE;"
   ]
  }
 ],
 "metadata": {
  "kernelspec": {
   "display_name": "Python 3 (ipykernel)",
   "language": "python",
   "name": "python3"
  },
  "language_info": {
   "codemirror_mode": {
    "name": "ipython",
    "version": 3
   },
   "file_extension": ".py",
   "mimetype": "text/x-python",
   "name": "python",
   "nbconvert_exporter": "python",
   "pygments_lexer": "ipython3",
   "version": "3.9.13"
  }
 },
 "nbformat": 4,
 "nbformat_minor": 5
}
