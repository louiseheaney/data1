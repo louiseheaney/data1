{
 "cells": [
  {
   "cell_type": "markdown",
   "id": "82dcfbc9",
   "metadata": {},
   "source": [
    "#  Import and Inspect the Data"
   ]
  },
  {
   "cell_type": "code",
   "execution_count": 2,
   "id": "929ac5ea",
   "metadata": {},
   "outputs": [
    {
     "data": {
      "text/html": [
       "<div>\n",
       "<style scoped>\n",
       "    .dataframe tbody tr th:only-of-type {\n",
       "        vertical-align: middle;\n",
       "    }\n",
       "\n",
       "    .dataframe tbody tr th {\n",
       "        vertical-align: top;\n",
       "    }\n",
       "\n",
       "    .dataframe thead th {\n",
       "        text-align: right;\n",
       "    }\n",
       "</style>\n",
       "<table border=\"1\" class=\"dataframe\">\n",
       "  <thead>\n",
       "    <tr style=\"text-align: right;\">\n",
       "      <th></th>\n",
       "      <th>Report Number</th>\n",
       "      <th>Local Case Number</th>\n",
       "      <th>Agency Name</th>\n",
       "      <th>ACRS Report Type</th>\n",
       "      <th>Crash Date/Time</th>\n",
       "      <th>Route Type</th>\n",
       "      <th>Road Name</th>\n",
       "      <th>Cross-Street Type</th>\n",
       "      <th>Cross-Street Name</th>\n",
       "      <th>Off-Road Description</th>\n",
       "      <th>Municipality</th>\n",
       "      <th>Related Non-Motorist</th>\n",
       "      <th>Collision Type</th>\n",
       "      <th>Weather</th>\n",
       "      <th>Surface Condition</th>\n",
       "      <th>Light</th>\n",
       "      <th>Traffic Control</th>\n",
       "      <th>Driver Substance Abuse</th>\n",
       "      <th>Non-Motorist Substance Abuse</th>\n",
       "      <th>Person ID</th>\n",
       "      <th>Driver At Fault</th>\n",
       "      <th>Injury Severity</th>\n",
       "      <th>Circumstance</th>\n",
       "      <th>Driver Distracted By</th>\n",
       "      <th>Drivers License State</th>\n",
       "      <th>Vehicle ID</th>\n",
       "      <th>Vehicle Damage Extent</th>\n",
       "      <th>Vehicle First Impact Location</th>\n",
       "      <th>Vehicle Second Impact Location</th>\n",
       "      <th>Vehicle Body Type</th>\n",
       "      <th>Vehicle Movement</th>\n",
       "      <th>Vehicle Continuing Dir</th>\n",
       "      <th>Vehicle Going Dir</th>\n",
       "      <th>Speed Limit</th>\n",
       "      <th>Driverless Vehicle</th>\n",
       "      <th>Parked Vehicle</th>\n",
       "      <th>Vehicle Year</th>\n",
       "      <th>Vehicle Make</th>\n",
       "      <th>Vehicle Model</th>\n",
       "      <th>Equipment Problems</th>\n",
       "      <th>Latitude</th>\n",
       "      <th>Longitude</th>\n",
       "      <th>Location</th>\n",
       "    </tr>\n",
       "  </thead>\n",
       "  <tbody>\n",
       "    <tr>\n",
       "      <th>0</th>\n",
       "      <td>MCP2723000R</td>\n",
       "      <td>15037232</td>\n",
       "      <td>MONTGOMERY</td>\n",
       "      <td>Injury Crash</td>\n",
       "      <td>07/28/2015 08:49:00 AM</td>\n",
       "      <td>Maryland (State)</td>\n",
       "      <td>NORBECK RD</td>\n",
       "      <td>County</td>\n",
       "      <td>WHITEHAVEN RD</td>\n",
       "      <td>NaN</td>\n",
       "      <td>NaN</td>\n",
       "      <td>NaN</td>\n",
       "      <td>OPPOSITE DIRECTION SIDESWIPE</td>\n",
       "      <td>BLOWING SAND, SOIL, DIRT</td>\n",
       "      <td>DRY</td>\n",
       "      <td>DAYLIGHT</td>\n",
       "      <td>NO CONTROLS</td>\n",
       "      <td>NONE DETECTED</td>\n",
       "      <td>NaN</td>\n",
       "      <td>D32AE393-41DB-44E2-9CD3-B71DCD31423B</td>\n",
       "      <td>No</td>\n",
       "      <td>NO APPARENT INJURY</td>\n",
       "      <td>NaN</td>\n",
       "      <td>NOT DISTRACTED</td>\n",
       "      <td>MD</td>\n",
       "      <td>E8EED89D-C156-4269-8A2B-7E9C8BC50D59</td>\n",
       "      <td>FUNCTIONAL</td>\n",
       "      <td>SEVEN OCLOCK</td>\n",
       "      <td>SEVEN OCLOCK</td>\n",
       "      <td>PASSENGER CAR</td>\n",
       "      <td>MOVING CONSTANT SPEED</td>\n",
       "      <td>East</td>\n",
       "      <td>East</td>\n",
       "      <td>40</td>\n",
       "      <td>No</td>\n",
       "      <td>No</td>\n",
       "      <td>2011</td>\n",
       "      <td>ACURA</td>\n",
       "      <td>TSX</td>\n",
       "      <td>NaN</td>\n",
       "      <td>39.120289</td>\n",
       "      <td>-77.040446</td>\n",
       "      <td>(39.12028892, -77.0404458)</td>\n",
       "    </tr>\n",
       "    <tr>\n",
       "      <th>1</th>\n",
       "      <td>MCP2723000R</td>\n",
       "      <td>15037232</td>\n",
       "      <td>MONTGOMERY</td>\n",
       "      <td>Injury Crash</td>\n",
       "      <td>07/28/2015 08:49:00 AM</td>\n",
       "      <td>Maryland (State)</td>\n",
       "      <td>NORBECK RD</td>\n",
       "      <td>County</td>\n",
       "      <td>WHITEHAVEN RD</td>\n",
       "      <td>NaN</td>\n",
       "      <td>NaN</td>\n",
       "      <td>NaN</td>\n",
       "      <td>OPPOSITE DIRECTION SIDESWIPE</td>\n",
       "      <td>BLOWING SAND, SOIL, DIRT</td>\n",
       "      <td>DRY</td>\n",
       "      <td>DAYLIGHT</td>\n",
       "      <td>NO CONTROLS</td>\n",
       "      <td>NaN</td>\n",
       "      <td>NaN</td>\n",
       "      <td>7AB8A066-B34C-4E4F-8621-177199E3D8A3</td>\n",
       "      <td>No</td>\n",
       "      <td>POSSIBLE INJURY</td>\n",
       "      <td>NaN</td>\n",
       "      <td>NOT DISTRACTED</td>\n",
       "      <td>MD</td>\n",
       "      <td>06EC5C19-91FE-4544-87D1-A17EBF6A50E2</td>\n",
       "      <td>DISABLING</td>\n",
       "      <td>NINE OCLOCK</td>\n",
       "      <td>NINE OCLOCK</td>\n",
       "      <td>PASSENGER CAR</td>\n",
       "      <td>MOVING CONSTANT SPEED</td>\n",
       "      <td>East</td>\n",
       "      <td>East</td>\n",
       "      <td>40</td>\n",
       "      <td>No</td>\n",
       "      <td>No</td>\n",
       "      <td>2011</td>\n",
       "      <td>HONDA</td>\n",
       "      <td>CR-V</td>\n",
       "      <td>NaN</td>\n",
       "      <td>39.120289</td>\n",
       "      <td>-77.040446</td>\n",
       "      <td>(39.12028892, -77.0404458)</td>\n",
       "    </tr>\n",
       "    <tr>\n",
       "      <th>2</th>\n",
       "      <td>MCP2723000R</td>\n",
       "      <td>15037232</td>\n",
       "      <td>MONTGOMERY</td>\n",
       "      <td>Injury Crash</td>\n",
       "      <td>07/28/2015 08:49:00 AM</td>\n",
       "      <td>Maryland (State)</td>\n",
       "      <td>NORBECK RD</td>\n",
       "      <td>County</td>\n",
       "      <td>WHITEHAVEN RD</td>\n",
       "      <td>NaN</td>\n",
       "      <td>NaN</td>\n",
       "      <td>NaN</td>\n",
       "      <td>OPPOSITE DIRECTION SIDESWIPE</td>\n",
       "      <td>BLOWING SAND, SOIL, DIRT</td>\n",
       "      <td>DRY</td>\n",
       "      <td>DAYLIGHT</td>\n",
       "      <td>NO CONTROLS</td>\n",
       "      <td>NaN</td>\n",
       "      <td>NaN</td>\n",
       "      <td>77F796DC-0B00-4F30-90A7-E78739D3D860</td>\n",
       "      <td>No</td>\n",
       "      <td>NO APPARENT INJURY</td>\n",
       "      <td>NaN</td>\n",
       "      <td>NOT DISTRACTED</td>\n",
       "      <td>MD</td>\n",
       "      <td>A89DDA8F-237C-49AF-AD78-EEDD8E20074E</td>\n",
       "      <td>DISABLING</td>\n",
       "      <td>TEN OCLOCK</td>\n",
       "      <td>TEN OCLOCK</td>\n",
       "      <td>PASSENGER CAR</td>\n",
       "      <td>MOVING CONSTANT SPEED</td>\n",
       "      <td>East</td>\n",
       "      <td>East</td>\n",
       "      <td>40</td>\n",
       "      <td>No</td>\n",
       "      <td>No</td>\n",
       "      <td>2010</td>\n",
       "      <td>FORD</td>\n",
       "      <td>FUSION</td>\n",
       "      <td>NaN</td>\n",
       "      <td>39.120289</td>\n",
       "      <td>-77.040446</td>\n",
       "      <td>(39.12028892, -77.0404458)</td>\n",
       "    </tr>\n",
       "    <tr>\n",
       "      <th>3</th>\n",
       "      <td>MCP2723000R</td>\n",
       "      <td>15037232</td>\n",
       "      <td>MONTGOMERY</td>\n",
       "      <td>Injury Crash</td>\n",
       "      <td>07/28/2015 08:49:00 AM</td>\n",
       "      <td>Maryland (State)</td>\n",
       "      <td>NORBECK RD</td>\n",
       "      <td>County</td>\n",
       "      <td>WHITEHAVEN RD</td>\n",
       "      <td>NaN</td>\n",
       "      <td>NaN</td>\n",
       "      <td>NaN</td>\n",
       "      <td>OPPOSITE DIRECTION SIDESWIPE</td>\n",
       "      <td>BLOWING SAND, SOIL, DIRT</td>\n",
       "      <td>DRY</td>\n",
       "      <td>DAYLIGHT</td>\n",
       "      <td>NO CONTROLS</td>\n",
       "      <td>NONE DETECTED</td>\n",
       "      <td>NaN</td>\n",
       "      <td>74C1C2A7-BC5B-4B82-A74A-6671CBD48884</td>\n",
       "      <td>Yes</td>\n",
       "      <td>NO APPARENT INJURY</td>\n",
       "      <td>NaN</td>\n",
       "      <td>UNKNOWN</td>\n",
       "      <td>MD</td>\n",
       "      <td>B9C157C4-35AE-4566-8A5E-FFD460E1373D</td>\n",
       "      <td>DESTROYED</td>\n",
       "      <td>ELEVEN OCLOCK</td>\n",
       "      <td>ELEVEN OCLOCK</td>\n",
       "      <td>PASSENGER CAR</td>\n",
       "      <td>MOVING CONSTANT SPEED</td>\n",
       "      <td>West</td>\n",
       "      <td>West</td>\n",
       "      <td>40</td>\n",
       "      <td>No</td>\n",
       "      <td>No</td>\n",
       "      <td>1999</td>\n",
       "      <td>OLDSMOBILE</td>\n",
       "      <td>BRAVADA</td>\n",
       "      <td>NaN</td>\n",
       "      <td>39.120289</td>\n",
       "      <td>-77.040446</td>\n",
       "      <td>(39.12028892, -77.0404458)</td>\n",
       "    </tr>\n",
       "    <tr>\n",
       "      <th>4</th>\n",
       "      <td>DD55980013</td>\n",
       "      <td>16059477</td>\n",
       "      <td>Rockville Police Departme</td>\n",
       "      <td>Property Damage Crash</td>\n",
       "      <td>11/18/2016 06:39:00 PM</td>\n",
       "      <td>Municipality</td>\n",
       "      <td>BALTIMORE RD</td>\n",
       "      <td>Municipality</td>\n",
       "      <td>FIRST ST</td>\n",
       "      <td>NaN</td>\n",
       "      <td>ROCKVILLE</td>\n",
       "      <td>NaN</td>\n",
       "      <td>OTHER</td>\n",
       "      <td>BLOWING SAND, SOIL, DIRT</td>\n",
       "      <td>NaN</td>\n",
       "      <td>DARK LIGHTS ON</td>\n",
       "      <td>TRAFFIC SIGNAL</td>\n",
       "      <td>NaN</td>\n",
       "      <td>NaN</td>\n",
       "      <td>93FDF35A-6BF0-4A80-8F7B-ABB991D871E3</td>\n",
       "      <td>No</td>\n",
       "      <td>NO APPARENT INJURY</td>\n",
       "      <td>NaN</td>\n",
       "      <td>NOT DISTRACTED</td>\n",
       "      <td>MD</td>\n",
       "      <td>49E6E045-91A0-46F5-B1E7-FB0E46C68B36</td>\n",
       "      <td>SUPERFICIAL</td>\n",
       "      <td>TWELVE OCLOCK</td>\n",
       "      <td>TWELVE OCLOCK</td>\n",
       "      <td>PASSENGER CAR</td>\n",
       "      <td>STOPPED IN TRAFFIC LANE</td>\n",
       "      <td>East</td>\n",
       "      <td>East</td>\n",
       "      <td>25</td>\n",
       "      <td>No</td>\n",
       "      <td>No</td>\n",
       "      <td>2012</td>\n",
       "      <td>VOLKSWAGON</td>\n",
       "      <td>GTI</td>\n",
       "      <td>NO MISUSE</td>\n",
       "      <td>39.084540</td>\n",
       "      <td>-77.136742</td>\n",
       "      <td>(39.08454, -77.13674167)</td>\n",
       "    </tr>\n",
       "  </tbody>\n",
       "</table>\n",
       "</div>"
      ],
      "text/plain": [
       "  Report Number Local Case Number                Agency Name  \\\n",
       "0   MCP2723000R          15037232                 MONTGOMERY   \n",
       "1   MCP2723000R          15037232                 MONTGOMERY   \n",
       "2   MCP2723000R          15037232                 MONTGOMERY   \n",
       "3   MCP2723000R          15037232                 MONTGOMERY   \n",
       "4    DD55980013          16059477  Rockville Police Departme   \n",
       "\n",
       "        ACRS Report Type         Crash Date/Time        Route Type  \\\n",
       "0           Injury Crash  07/28/2015 08:49:00 AM  Maryland (State)   \n",
       "1           Injury Crash  07/28/2015 08:49:00 AM  Maryland (State)   \n",
       "2           Injury Crash  07/28/2015 08:49:00 AM  Maryland (State)   \n",
       "3           Injury Crash  07/28/2015 08:49:00 AM  Maryland (State)   \n",
       "4  Property Damage Crash  11/18/2016 06:39:00 PM      Municipality   \n",
       "\n",
       "      Road Name Cross-Street Type Cross-Street Name Off-Road Description  \\\n",
       "0    NORBECK RD            County     WHITEHAVEN RD                  NaN   \n",
       "1    NORBECK RD            County     WHITEHAVEN RD                  NaN   \n",
       "2    NORBECK RD            County     WHITEHAVEN RD                  NaN   \n",
       "3    NORBECK RD            County     WHITEHAVEN RD                  NaN   \n",
       "4  BALTIMORE RD      Municipality          FIRST ST                  NaN   \n",
       "\n",
       "  Municipality Related Non-Motorist                Collision Type  \\\n",
       "0          NaN                  NaN  OPPOSITE DIRECTION SIDESWIPE   \n",
       "1          NaN                  NaN  OPPOSITE DIRECTION SIDESWIPE   \n",
       "2          NaN                  NaN  OPPOSITE DIRECTION SIDESWIPE   \n",
       "3          NaN                  NaN  OPPOSITE DIRECTION SIDESWIPE   \n",
       "4    ROCKVILLE                  NaN                         OTHER   \n",
       "\n",
       "                    Weather Surface Condition           Light Traffic Control  \\\n",
       "0  BLOWING SAND, SOIL, DIRT               DRY        DAYLIGHT     NO CONTROLS   \n",
       "1  BLOWING SAND, SOIL, DIRT               DRY        DAYLIGHT     NO CONTROLS   \n",
       "2  BLOWING SAND, SOIL, DIRT               DRY        DAYLIGHT     NO CONTROLS   \n",
       "3  BLOWING SAND, SOIL, DIRT               DRY        DAYLIGHT     NO CONTROLS   \n",
       "4  BLOWING SAND, SOIL, DIRT               NaN  DARK LIGHTS ON  TRAFFIC SIGNAL   \n",
       "\n",
       "  Driver Substance Abuse Non-Motorist Substance Abuse  \\\n",
       "0          NONE DETECTED                          NaN   \n",
       "1                    NaN                          NaN   \n",
       "2                    NaN                          NaN   \n",
       "3          NONE DETECTED                          NaN   \n",
       "4                    NaN                          NaN   \n",
       "\n",
       "                              Person ID Driver At Fault     Injury Severity  \\\n",
       "0  D32AE393-41DB-44E2-9CD3-B71DCD31423B              No  NO APPARENT INJURY   \n",
       "1  7AB8A066-B34C-4E4F-8621-177199E3D8A3              No     POSSIBLE INJURY   \n",
       "2  77F796DC-0B00-4F30-90A7-E78739D3D860              No  NO APPARENT INJURY   \n",
       "3  74C1C2A7-BC5B-4B82-A74A-6671CBD48884             Yes  NO APPARENT INJURY   \n",
       "4  93FDF35A-6BF0-4A80-8F7B-ABB991D871E3              No  NO APPARENT INJURY   \n",
       "\n",
       "  Circumstance Driver Distracted By Drivers License State  \\\n",
       "0          NaN       NOT DISTRACTED                    MD   \n",
       "1          NaN       NOT DISTRACTED                    MD   \n",
       "2          NaN       NOT DISTRACTED                    MD   \n",
       "3          NaN              UNKNOWN                    MD   \n",
       "4          NaN       NOT DISTRACTED                    MD   \n",
       "\n",
       "                             Vehicle ID Vehicle Damage Extent  \\\n",
       "0  E8EED89D-C156-4269-8A2B-7E9C8BC50D59            FUNCTIONAL   \n",
       "1  06EC5C19-91FE-4544-87D1-A17EBF6A50E2             DISABLING   \n",
       "2  A89DDA8F-237C-49AF-AD78-EEDD8E20074E             DISABLING   \n",
       "3  B9C157C4-35AE-4566-8A5E-FFD460E1373D             DESTROYED   \n",
       "4  49E6E045-91A0-46F5-B1E7-FB0E46C68B36           SUPERFICIAL   \n",
       "\n",
       "  Vehicle First Impact Location Vehicle Second Impact Location  \\\n",
       "0                  SEVEN OCLOCK                   SEVEN OCLOCK   \n",
       "1                   NINE OCLOCK                    NINE OCLOCK   \n",
       "2                    TEN OCLOCK                     TEN OCLOCK   \n",
       "3                 ELEVEN OCLOCK                  ELEVEN OCLOCK   \n",
       "4                 TWELVE OCLOCK                  TWELVE OCLOCK   \n",
       "\n",
       "  Vehicle Body Type         Vehicle Movement Vehicle Continuing Dir  \\\n",
       "0     PASSENGER CAR    MOVING CONSTANT SPEED                   East   \n",
       "1     PASSENGER CAR    MOVING CONSTANT SPEED                   East   \n",
       "2     PASSENGER CAR    MOVING CONSTANT SPEED                   East   \n",
       "3     PASSENGER CAR    MOVING CONSTANT SPEED                   West   \n",
       "4     PASSENGER CAR  STOPPED IN TRAFFIC LANE                   East   \n",
       "\n",
       "  Vehicle Going Dir  Speed Limit Driverless Vehicle Parked Vehicle  \\\n",
       "0              East           40                 No             No   \n",
       "1              East           40                 No             No   \n",
       "2              East           40                 No             No   \n",
       "3              West           40                 No             No   \n",
       "4              East           25                 No             No   \n",
       "\n",
       "   Vehicle Year Vehicle Make Vehicle Model Equipment Problems   Latitude  \\\n",
       "0          2011        ACURA           TSX                NaN  39.120289   \n",
       "1          2011        HONDA          CR-V                NaN  39.120289   \n",
       "2          2010         FORD        FUSION                NaN  39.120289   \n",
       "3          1999   OLDSMOBILE       BRAVADA                NaN  39.120289   \n",
       "4          2012   VOLKSWAGON           GTI          NO MISUSE  39.084540   \n",
       "\n",
       "   Longitude                    Location  \n",
       "0 -77.040446  (39.12028892, -77.0404458)  \n",
       "1 -77.040446  (39.12028892, -77.0404458)  \n",
       "2 -77.040446  (39.12028892, -77.0404458)  \n",
       "3 -77.040446  (39.12028892, -77.0404458)  \n",
       "4 -77.136742    (39.08454, -77.13674167)  "
      ]
     },
     "execution_count": 2,
     "metadata": {},
     "output_type": "execute_result"
    }
   ],
   "source": [
    "import pandas as pd\n",
    "pd.set_option('display.max_columns', None)\n",
    "\n",
    "crash = pd.read_csv('Crash_Reporting_Project_Full_1.csv', low_memory=False)\n",
    "crash.head()"
   ]
  },
  {
   "cell_type": "code",
   "execution_count": 3,
   "id": "de7ab8c8",
   "metadata": {},
   "outputs": [
    {
     "name": "stdout",
     "output_type": "stream",
     "text": [
      "<class 'pandas.core.frame.DataFrame'>\n",
      "RangeIndex: 172105 entries, 0 to 172104\n",
      "Data columns (total 43 columns):\n",
      " #   Column                          Non-Null Count   Dtype  \n",
      "---  ------                          --------------   -----  \n",
      " 0   Report Number                   172105 non-null  object \n",
      " 1   Local Case Number               172105 non-null  object \n",
      " 2   Agency Name                     172105 non-null  object \n",
      " 3   ACRS Report Type                172105 non-null  object \n",
      " 4   Crash Date/Time                 172105 non-null  object \n",
      " 5   Route Type                      155132 non-null  object \n",
      " 6   Road Name                       156168 non-null  object \n",
      " 7   Cross-Street Type               155099 non-null  object \n",
      " 8   Cross-Street Name               156154 non-null  object \n",
      " 9   Off-Road Description            15935 non-null   object \n",
      " 10  Municipality                    19126 non-null   object \n",
      " 11  Related Non-Motorist            5463 non-null    object \n",
      " 12  Collision Type                  171520 non-null  object \n",
      " 13  Weather                         158751 non-null  object \n",
      " 14  Surface Condition               151987 non-null  object \n",
      " 15  Light                           170660 non-null  object \n",
      " 16  Traffic Control                 146636 non-null  object \n",
      " 17  Driver Substance Abuse          140781 non-null  object \n",
      " 18  Non-Motorist Substance Abuse    4317 non-null    object \n",
      " 19  Person ID                       172105 non-null  object \n",
      " 20  Driver At Fault                 172105 non-null  object \n",
      " 21  Injury Severity                 172105 non-null  object \n",
      " 22  Circumstance                    31359 non-null   object \n",
      " 23  Driver Distracted By            172105 non-null  object \n",
      " 24  Drivers License State           162155 non-null  object \n",
      " 25  Vehicle ID                      172105 non-null  object \n",
      " 26  Vehicle Damage Extent           171789 non-null  object \n",
      " 27  Vehicle First Impact Location   171949 non-null  object \n",
      " 28  Vehicle Second Impact Location  171849 non-null  object \n",
      " 29  Vehicle Body Type               169456 non-null  object \n",
      " 30  Vehicle Movement                171719 non-null  object \n",
      " 31  Vehicle Continuing Dir          169416 non-null  object \n",
      " 32  Vehicle Going Dir               169416 non-null  object \n",
      " 33  Speed Limit                     172105 non-null  int64  \n",
      " 34  Driverless Vehicle              172105 non-null  object \n",
      " 35  Parked Vehicle                  172105 non-null  object \n",
      " 36  Vehicle Year                    172105 non-null  int64  \n",
      " 37  Vehicle Make                    172081 non-null  object \n",
      " 38  Vehicle Model                   172039 non-null  object \n",
      " 39  Equipment Problems              137964 non-null  object \n",
      " 40  Latitude                        172105 non-null  float64\n",
      " 41  Longitude                       172105 non-null  float64\n",
      " 42  Location                        172105 non-null  object \n",
      "dtypes: float64(2), int64(2), object(39)\n",
      "memory usage: 56.5+ MB\n"
     ]
    }
   ],
   "source": [
    "crash.info()"
   ]
  },
  {
   "cell_type": "code",
   "execution_count": 4,
   "id": "4178c134",
   "metadata": {},
   "outputs": [
    {
     "data": {
      "text/plain": [
       "TWELVE OCLOCK    68021\n",
       "SIX OCLOCK       34273\n",
       "ONE OCLOCK       16196\n",
       "ELEVEN OCLOCK    13772\n",
       "TWO OCLOCK        6238\n",
       "TEN OCLOCK        6191\n",
       "SEVEN OCLOCK      4279\n",
       "FOUR OCLOCK       4126\n",
       "FIVE OCLOCK       4063\n",
       "EIGHT OCLOCK      3700\n",
       "THREE OCLOCK      3379\n",
       "NINE OCLOCK       3358\n",
       "UNKNOWN           3081\n",
       "UNDERSIDE          524\n",
       "NON-COLLISION      394\n",
       "ROOF TOP           354\n",
       "Name: Vehicle First Impact Location, dtype: int64"
      ]
     },
     "execution_count": 4,
     "metadata": {},
     "output_type": "execute_result"
    }
   ],
   "source": [
    "crash['Vehicle First Impact Location'].value_counts()"
   ]
  },
  {
   "cell_type": "code",
   "execution_count": 5,
   "id": "a24114f5",
   "metadata": {},
   "outputs": [
    {
     "data": {
      "text/html": [
       "<div>\n",
       "<style scoped>\n",
       "    .dataframe tbody tr th:only-of-type {\n",
       "        vertical-align: middle;\n",
       "    }\n",
       "\n",
       "    .dataframe tbody tr th {\n",
       "        vertical-align: top;\n",
       "    }\n",
       "\n",
       "    .dataframe thead th {\n",
       "        text-align: right;\n",
       "    }\n",
       "</style>\n",
       "<table border=\"1\" class=\"dataframe\">\n",
       "  <thead>\n",
       "    <tr style=\"text-align: right;\">\n",
       "      <th></th>\n",
       "      <th>Speed Limit</th>\n",
       "      <th>Vehicle Year</th>\n",
       "      <th>Latitude</th>\n",
       "      <th>Longitude</th>\n",
       "    </tr>\n",
       "  </thead>\n",
       "  <tbody>\n",
       "    <tr>\n",
       "      <th>count</th>\n",
       "      <td>172105.000000</td>\n",
       "      <td>172105.000000</td>\n",
       "      <td>172105.000000</td>\n",
       "      <td>172105.000000</td>\n",
       "    </tr>\n",
       "    <tr>\n",
       "      <th>mean</th>\n",
       "      <td>32.549752</td>\n",
       "      <td>1966.306946</td>\n",
       "      <td>39.083119</td>\n",
       "      <td>-77.112343</td>\n",
       "    </tr>\n",
       "    <tr>\n",
       "      <th>std</th>\n",
       "      <td>11.059987</td>\n",
       "      <td>340.615468</td>\n",
       "      <td>0.072032</td>\n",
       "      <td>0.098571</td>\n",
       "    </tr>\n",
       "    <tr>\n",
       "      <th>min</th>\n",
       "      <td>0.000000</td>\n",
       "      <td>0.000000</td>\n",
       "      <td>37.720000</td>\n",
       "      <td>-79.486000</td>\n",
       "    </tr>\n",
       "    <tr>\n",
       "      <th>25%</th>\n",
       "      <td>25.000000</td>\n",
       "      <td>2006.000000</td>\n",
       "      <td>39.024417</td>\n",
       "      <td>-77.189327</td>\n",
       "    </tr>\n",
       "    <tr>\n",
       "      <th>50%</th>\n",
       "      <td>35.000000</td>\n",
       "      <td>2011.000000</td>\n",
       "      <td>39.074933</td>\n",
       "      <td>-77.105412</td>\n",
       "    </tr>\n",
       "    <tr>\n",
       "      <th>75%</th>\n",
       "      <td>40.000000</td>\n",
       "      <td>2015.000000</td>\n",
       "      <td>39.139742</td>\n",
       "      <td>-77.039592</td>\n",
       "    </tr>\n",
       "    <tr>\n",
       "      <th>max</th>\n",
       "      <td>75.000000</td>\n",
       "      <td>9999.000000</td>\n",
       "      <td>39.990414</td>\n",
       "      <td>-75.527708</td>\n",
       "    </tr>\n",
       "  </tbody>\n",
       "</table>\n",
       "</div>"
      ],
      "text/plain": [
       "         Speed Limit   Vehicle Year       Latitude      Longitude\n",
       "count  172105.000000  172105.000000  172105.000000  172105.000000\n",
       "mean       32.549752    1966.306946      39.083119     -77.112343\n",
       "std        11.059987     340.615468       0.072032       0.098571\n",
       "min         0.000000       0.000000      37.720000     -79.486000\n",
       "25%        25.000000    2006.000000      39.024417     -77.189327\n",
       "50%        35.000000    2011.000000      39.074933     -77.105412\n",
       "75%        40.000000    2015.000000      39.139742     -77.039592\n",
       "max        75.000000    9999.000000      39.990414     -75.527708"
      ]
     },
     "execution_count": 5,
     "metadata": {},
     "output_type": "execute_result"
    }
   ],
   "source": [
    "crash.describe()"
   ]
  },
  {
   "cell_type": "markdown",
   "id": "9b85f7dc",
   "metadata": {},
   "source": [
    "#  Check for Missing Data"
   ]
  },
  {
   "cell_type": "code",
   "execution_count": 6,
   "id": "e8fe4931",
   "metadata": {},
   "outputs": [
    {
     "data": {
      "text/plain": [
       "Speed Limit     0\n",
       "Vehicle Year    0\n",
       "Latitude        0\n",
       "Longitude       0\n",
       "dtype: int64"
      ]
     },
     "execution_count": 6,
     "metadata": {},
     "output_type": "execute_result"
    }
   ],
   "source": [
    "crash_num = crash.select_dtypes(include=['float', 'int'])\n",
    "crash_num.isnull().sum()"
   ]
  },
  {
   "cell_type": "code",
   "execution_count": 7,
   "id": "5c7a1461",
   "metadata": {
    "scrolled": false
   },
   "outputs": [
    {
     "data": {
      "text/plain": [
       "Report Number                          0\n",
       "Local Case Number                      0\n",
       "Agency Name                            0\n",
       "ACRS Report Type                       0\n",
       "Crash Date/Time                        0\n",
       "Route Type                         16973\n",
       "Road Name                          15937\n",
       "Cross-Street Type                  17006\n",
       "Cross-Street Name                  15951\n",
       "Off-Road Description              156170\n",
       "Municipality                      152979\n",
       "Related Non-Motorist              166642\n",
       "Collision Type                       585\n",
       "Weather                            13354\n",
       "Surface Condition                  20118\n",
       "Light                               1445\n",
       "Traffic Control                    25469\n",
       "Driver Substance Abuse             31324\n",
       "Non-Motorist Substance Abuse      167788\n",
       "Person ID                              0\n",
       "Driver At Fault                        0\n",
       "Injury Severity                        0\n",
       "Circumstance                      140746\n",
       "Driver Distracted By                   0\n",
       "Drivers License State               9950\n",
       "Vehicle ID                             0\n",
       "Vehicle Damage Extent                316\n",
       "Vehicle First Impact Location        156\n",
       "Vehicle Second Impact Location       256\n",
       "Vehicle Body Type                   2649\n",
       "Vehicle Movement                     386\n",
       "Vehicle Continuing Dir              2689\n",
       "Vehicle Going Dir                   2689\n",
       "Driverless Vehicle                     0\n",
       "Parked Vehicle                         0\n",
       "Vehicle Make                          24\n",
       "Vehicle Model                         66\n",
       "Equipment Problems                 34141\n",
       "Location                               0\n",
       "dtype: int64"
      ]
     },
     "execution_count": 7,
     "metadata": {},
     "output_type": "execute_result"
    }
   ],
   "source": [
    "crash_cat = crash.select_dtypes(exclude=['float', 'int'])\n",
    "crash_cat.isnull().sum()"
   ]
  },
  {
   "cell_type": "markdown",
   "id": "474419fe",
   "metadata": {},
   "source": [
    "# Drop Irrelevant Columns"
   ]
  },
  {
   "cell_type": "code",
   "execution_count": 8,
   "id": "8b700d44",
   "metadata": {},
   "outputs": [
    {
     "name": "stdout",
     "output_type": "stream",
     "text": [
      "<class 'pandas.core.frame.DataFrame'>\n",
      "RangeIndex: 172105 entries, 0 to 172104\n",
      "Data columns (total 35 columns):\n",
      " #   Column                          Non-Null Count   Dtype  \n",
      "---  ------                          --------------   -----  \n",
      " 0   Report Number                   172105 non-null  object \n",
      " 1   ACRS Report Type                172105 non-null  object \n",
      " 2   Crash Date/Time                 172105 non-null  object \n",
      " 3   Route Type                      155132 non-null  object \n",
      " 4   Cross-Street Type               155099 non-null  object \n",
      " 5   Off-Road Description            15935 non-null   object \n",
      " 6   Municipality                    19126 non-null   object \n",
      " 7   Collision Type                  171520 non-null  object \n",
      " 8   Weather                         158751 non-null  object \n",
      " 9   Surface Condition               151987 non-null  object \n",
      " 10  Light                           170660 non-null  object \n",
      " 11  Traffic Control                 146636 non-null  object \n",
      " 12  Driver Substance Abuse          140781 non-null  object \n",
      " 13  Non-Motorist Substance Abuse    4317 non-null    object \n",
      " 14  Driver At Fault                 172105 non-null  object \n",
      " 15  Injury Severity                 172105 non-null  object \n",
      " 16  Circumstance                    31359 non-null   object \n",
      " 17  Driver Distracted By            172105 non-null  object \n",
      " 18  Vehicle Damage Extent           171789 non-null  object \n",
      " 19  Vehicle First Impact Location   171949 non-null  object \n",
      " 20  Vehicle Second Impact Location  171849 non-null  object \n",
      " 21  Vehicle Body Type               169456 non-null  object \n",
      " 22  Vehicle Movement                171719 non-null  object \n",
      " 23  Vehicle Continuing Dir          169416 non-null  object \n",
      " 24  Vehicle Going Dir               169416 non-null  object \n",
      " 25  Speed Limit                     172105 non-null  int64  \n",
      " 26  Driverless Vehicle              172105 non-null  object \n",
      " 27  Parked Vehicle                  172105 non-null  object \n",
      " 28  Vehicle Year                    172105 non-null  int64  \n",
      " 29  Vehicle Make                    172081 non-null  object \n",
      " 30  Vehicle Model                   172039 non-null  object \n",
      " 31  Equipment Problems              137964 non-null  object \n",
      " 32  Latitude                        172105 non-null  float64\n",
      " 33  Longitude                       172105 non-null  float64\n",
      " 34  Location                        172105 non-null  object \n",
      "dtypes: float64(2), int64(2), object(31)\n",
      "memory usage: 46.0+ MB\n"
     ]
    }
   ],
   "source": [
    "drop_columns = [\n",
    "    'Road Name', 'Agency Name', 'Local Case Number', 'Agency Name', 'Road Name', 'Cross-Street Name',\n",
    "    'Person ID', 'Drivers License State', 'Vehicle ID', 'Related Non-Motorist'\n",
    "]\n",
    "\n",
    "crash = crash.drop(columns=drop_columns, axis=1)\n",
    "crash.info()"
   ]
  },
  {
   "cell_type": "code",
   "execution_count": 9,
   "id": "0d93229d",
   "metadata": {},
   "outputs": [
    {
     "data": {
      "text/plain": [
       "Report Number                          0\n",
       "ACRS Report Type                       0\n",
       "Crash Date/Time                        0\n",
       "Route Type                         16973\n",
       "Cross-Street Type                  17006\n",
       "Off-Road Description              156170\n",
       "Municipality                      152979\n",
       "Collision Type                       585\n",
       "Weather                            13354\n",
       "Surface Condition                  20118\n",
       "Light                               1445\n",
       "Traffic Control                    25469\n",
       "Driver Substance Abuse             31324\n",
       "Non-Motorist Substance Abuse      167788\n",
       "Driver At Fault                        0\n",
       "Injury Severity                        0\n",
       "Circumstance                      140746\n",
       "Driver Distracted By                   0\n",
       "Vehicle Damage Extent                316\n",
       "Vehicle First Impact Location        156\n",
       "Vehicle Second Impact Location       256\n",
       "Vehicle Body Type                   2649\n",
       "Vehicle Movement                     386\n",
       "Vehicle Continuing Dir              2689\n",
       "Vehicle Going Dir                   2689\n",
       "Speed Limit                            0\n",
       "Driverless Vehicle                     0\n",
       "Parked Vehicle                         0\n",
       "Vehicle Year                           0\n",
       "Vehicle Make                          24\n",
       "Vehicle Model                         66\n",
       "Equipment Problems                 34141\n",
       "Latitude                               0\n",
       "Longitude                              0\n",
       "Location                               0\n",
       "dtype: int64"
      ]
     },
     "execution_count": 9,
     "metadata": {},
     "output_type": "execute_result"
    }
   ],
   "source": [
    "crash.isnull().sum()"
   ]
  },
  {
   "cell_type": "markdown",
   "id": "135dc7ec",
   "metadata": {},
   "source": [
    "# Remove Columns with Huge Data Quality Issues"
   ]
  },
  {
   "cell_type": "markdown",
   "id": "f74437d0",
   "metadata": {},
   "source": [
    "### Vehicle Make - Too many spelling issues"
   ]
  },
  {
   "cell_type": "code",
   "execution_count": 10,
   "id": "72e76b17",
   "metadata": {},
   "outputs": [
    {
     "data": {
      "text/plain": [
       "TOYOTA         23171\n",
       "HONDA          18870\n",
       "FORD           17138\n",
       "TOYT            8840\n",
       "NISSAN          8525\n",
       "               ...  \n",
       "CANA               1\n",
       "MEDZ               1\n",
       "CHRISLER           1\n",
       "CHEVUY             1\n",
       "CHRYVAL2008        1\n",
       "Name: Vehicle Make, Length: 1875, dtype: int64"
      ]
     },
     "execution_count": 10,
     "metadata": {},
     "output_type": "execute_result"
    }
   ],
   "source": [
    "crash['Vehicle Make'].value_counts()"
   ]
  },
  {
   "cell_type": "markdown",
   "id": "f87fa2e7",
   "metadata": {},
   "source": [
    "### Vehicle Model - Irrelevant without Vehicle Make"
   ]
  },
  {
   "cell_type": "code",
   "execution_count": 11,
   "id": "02fe7192",
   "metadata": {},
   "outputs": [
    {
     "data": {
      "text/plain": [
       "4S           13748\n",
       "TK           10978\n",
       "CAMRY         6146\n",
       "CIVIC         5571\n",
       "ACCORD        5559\n",
       "             ...  \n",
       "E8500            1\n",
       "TERSEL           1\n",
       "ECHP             1\n",
       "SPORT VAN        1\n",
       "C150             1\n",
       "Name: Vehicle Model, Length: 6686, dtype: int64"
      ]
     },
     "execution_count": 11,
     "metadata": {},
     "output_type": "execute_result"
    }
   ],
   "source": [
    "crash['Vehicle Model'].value_counts()"
   ]
  },
  {
   "cell_type": "markdown",
   "id": "56e4f29e",
   "metadata": {},
   "source": [
    "# Fill Missing Data with None/No Issue etc."
   ]
  },
  {
   "cell_type": "markdown",
   "id": "cb8ef9c2",
   "metadata": {},
   "source": [
    "### Equipment Problems"
   ]
  },
  {
   "cell_type": "code",
   "execution_count": 12,
   "id": "68eb0b3a",
   "metadata": {},
   "outputs": [
    {
     "data": {
      "text/plain": [
       "NO MISUSE              123464\n",
       "No Issues               34141\n",
       "UNKNOWN                 14148\n",
       "AIR BAG FAILED            174\n",
       "OTHER                     112\n",
       "BELT(S) MISUSED            34\n",
       "BELTS/ANCHORS BROKE        12\n",
       "STRAP/TETHER LOOSE          8\n",
       "FACING WRONG WAY            6\n",
       "NOT STREPPED RIGHT          4\n",
       "SIZE/TYPE IMPROPER          2\n",
       "Name: Equipment Problems, dtype: int64"
      ]
     },
     "execution_count": 12,
     "metadata": {},
     "output_type": "execute_result"
    }
   ],
   "source": [
    "crash['Equipment Problems'].value_counts()\n",
    "crash['Equipment Problems'] = crash['Equipment Problems'].fillna('No Issues')\n",
    "crash['Equipment Problems'].value_counts()"
   ]
  },
  {
   "cell_type": "markdown",
   "id": "4aa7ecb0",
   "metadata": {},
   "source": [
    "# Check Values"
   ]
  },
  {
   "cell_type": "code",
   "execution_count": 13,
   "id": "57ec950d",
   "metadata": {},
   "outputs": [
    {
     "data": {
      "text/plain": [
       "PARKING LOT                                     132\n",
       "PARKING LOT OF 11160 VEIRS MILL RD               15\n",
       "PARKING LOT OF 10901 WESTLAKE DR                 13\n",
       "PARKING LOT OF 11160 VEIRS MILL ROAD             12\n",
       "PARKING LOT OF 10323 OLD GEORGETOWN RD           12\n",
       "                                               ... \n",
       "PARKING LOT OF 6201 TILDEN LA                     1\n",
       "11149 VEIRS MILL RD - CHUCK LEVINS BUILDING       1\n",
       "EXITING THE PARKING LOT OF APARTMENT COMPLEX      1\n",
       "PARKING LOT/GRASS AREA IFO 220 PERRY PARKWAY      1\n",
       "PARKING GARAGE AT 7726 FENTON ST                  1\n",
       "Name: Off-Road Description, Length: 11302, dtype: int64"
      ]
     },
     "execution_count": 13,
     "metadata": {},
     "output_type": "execute_result"
    }
   ],
   "source": [
    "crash['Off-Road Description'].value_counts()"
   ]
  },
  {
   "cell_type": "code",
   "execution_count": 14,
   "id": "d367870b",
   "metadata": {},
   "outputs": [
    {
     "data": {
      "text/plain": [
       "SAME DIR REAR END               55755\n",
       "STRAIGHT MOVEMENT ANGLE         30340\n",
       "OTHER                           19030\n",
       "SAME DIRECTION SIDESWIPE        16226\n",
       "SINGLE VEHICLE                  15869\n",
       "HEAD ON LEFT TURN               12926\n",
       "SAME DIRECTION RIGHT TURN        3832\n",
       "HEAD ON                          3786\n",
       "SAME DIRECTION LEFT TURN         3715\n",
       "OPPOSITE DIRECTION SIDESWIPE     2883\n",
       "ANGLE MEETS LEFT TURN            2033\n",
       "ANGLE MEETS RIGHT TURN           1204\n",
       "SAME DIR REND LEFT TURN           743\n",
       "SAME DIR REND RIGHT TURN          720\n",
       "SAME DIR BOTH LEFT TURN           719\n",
       "UNKNOWN                           717\n",
       "ANGLE MEETS LEFT HEAD ON          700\n",
       "OPPOSITE DIR BOTH LEFT TURN       322\n",
       "Name: Collision Type, dtype: int64"
      ]
     },
     "execution_count": 14,
     "metadata": {},
     "output_type": "execute_result"
    }
   ],
   "source": [
    "crash['Collision Type'].value_counts()"
   ]
  },
  {
   "cell_type": "code",
   "execution_count": 15,
   "id": "afea0fb2",
   "metadata": {},
   "outputs": [
    {
     "data": {
      "text/plain": [
       "DAYLIGHT                    116140\n",
       "DARK LIGHTS ON               39549\n",
       "DARK NO LIGHTS                4967\n",
       "DUSK                          3935\n",
       "DAWN                          3472\n",
       "DARK -- UNKNOWN LIGHTING      1579\n",
       "UNKNOWN                        676\n",
       "OTHER                          342\n",
       "Name: Light, dtype: int64"
      ]
     },
     "execution_count": 15,
     "metadata": {},
     "output_type": "execute_result"
    }
   ],
   "source": [
    "crash['Light'].value_counts()"
   ]
  },
  {
   "cell_type": "code",
   "execution_count": 16,
   "id": "228a5773",
   "metadata": {},
   "outputs": [
    {
     "data": {
      "text/plain": [
       "NO CONTROLS                68626\n",
       "TRAFFIC SIGNAL             58892\n",
       "STOP SIGN                  12488\n",
       "FLASHING TRAFFIC SIGNAL     2132\n",
       "OTHER                       1991\n",
       "YIELD SIGN                  1727\n",
       "UNKNOWN                      284\n",
       "PERSON                       282\n",
       "WARNING SIGN                 154\n",
       "RAILWAY CROSSING DEVICE       44\n",
       "SCHOOL ZONE SIGN DEVICE       16\n",
       "Name: Traffic Control, dtype: int64"
      ]
     },
     "execution_count": 16,
     "metadata": {},
     "output_type": "execute_result"
    }
   ],
   "source": [
    "crash['Traffic Control'].value_counts()"
   ]
  },
  {
   "cell_type": "code",
   "execution_count": 17,
   "id": "57e4c72a",
   "metadata": {},
   "outputs": [
    {
     "data": {
      "text/plain": [
       "NONE DETECTED                 122532\n",
       "UNKNOWN                        11993\n",
       "ALCOHOL PRESENT                 4084\n",
       "ALCOHOL CONTRIBUTED             1435\n",
       "ILLEGAL DRUG PRESENT             258\n",
       "MEDICATION PRESENT               117\n",
       "ILLEGAL DRUG CONTRIBUTED         102\n",
       "COMBINED SUBSTANCE PRESENT        92\n",
       "MEDICATION CONTRIBUTED            64\n",
       "OTHER                             58\n",
       "COMBINATION CONTRIBUTED           46\n",
       "Name: Driver Substance Abuse, dtype: int64"
      ]
     },
     "execution_count": 17,
     "metadata": {},
     "output_type": "execute_result"
    }
   ],
   "source": [
    "crash['Driver Substance Abuse'].value_counts()"
   ]
  },
  {
   "cell_type": "code",
   "execution_count": 18,
   "id": "b01845c5",
   "metadata": {},
   "outputs": [
    {
     "data": {
      "text/plain": [
       "RAIN, SNOW, WET                                                             12172\n",
       "N/A, WET                                                                     9084\n",
       "N/A, RAIN, SNOW                                                              1177\n",
       "SLEET, HAIL, FREEZ. RAIN, WET                                                1065\n",
       "N/A, VISION OBSTRUCTION (INCL. BLINDED BY SUN)                               1049\n",
       "                                                                            ...  \n",
       "RAIN, SNOW, ROAD UNDER CONSTRUCTION/MAINTENANCE, WET                            1\n",
       "DEBRIS OR OBSTRUCTION, RAIN, SNOW, SEVERE CROSSWINDS, WET                       1\n",
       "RAIN, SNOW, ROAD UNDER CONSTRUCTION/MAINTENANCE, RUTS, HOLES, BUMPS, WET        1\n",
       "ANIMAL, SLEET, HAIL, FREEZ. RAIN, WET                                           1\n",
       "RAIN, SNOW, WET, WORN, TRAVEL-POLISHED SURFACE                                  1\n",
       "Name: Circumstance, Length: 198, dtype: int64"
      ]
     },
     "execution_count": 18,
     "metadata": {},
     "output_type": "execute_result"
    }
   ],
   "source": [
    "crash['Circumstance'].value_counts()"
   ]
  },
  {
   "cell_type": "code",
   "execution_count": 19,
   "id": "ae788023",
   "metadata": {},
   "outputs": [
    {
     "data": {
      "text/plain": [
       "DISABLING      62354\n",
       "FUNCTIONAL     44989\n",
       "SUPERFICIAL    43870\n",
       "DESTROYED       7610\n",
       "UNKNOWN         6619\n",
       "NO DAMAGE       6245\n",
       "OTHER            102\n",
       "Name: Vehicle Damage Extent, dtype: int64"
      ]
     },
     "execution_count": 19,
     "metadata": {},
     "output_type": "execute_result"
    }
   ],
   "source": [
    "crash['Vehicle Damage Extent'].value_counts()"
   ]
  },
  {
   "cell_type": "code",
   "execution_count": 20,
   "id": "7b412982",
   "metadata": {},
   "outputs": [
    {
     "data": {
      "text/plain": [
       "DAYLIGHT                    116140\n",
       "DARK LIGHTS ON               39549\n",
       "DARK NO LIGHTS                4967\n",
       "DUSK                          3935\n",
       "DAWN                          3472\n",
       "DARK -- UNKNOWN LIGHTING      1579\n",
       "UNKNOWN                        676\n",
       "OTHER                          342\n",
       "Name: Light, dtype: int64"
      ]
     },
     "execution_count": 20,
     "metadata": {},
     "output_type": "execute_result"
    }
   ],
   "source": [
    "crash['Light'].value_counts()"
   ]
  },
  {
   "cell_type": "code",
   "execution_count": 21,
   "id": "efe63e53",
   "metadata": {},
   "outputs": [
    {
     "data": {
      "text/plain": [
       "TWELVE OCLOCK    68021\n",
       "SIX OCLOCK       34273\n",
       "ONE OCLOCK       16196\n",
       "ELEVEN OCLOCK    13772\n",
       "TWO OCLOCK        6238\n",
       "TEN OCLOCK        6191\n",
       "SEVEN OCLOCK      4279\n",
       "FOUR OCLOCK       4126\n",
       "FIVE OCLOCK       4063\n",
       "EIGHT OCLOCK      3700\n",
       "THREE OCLOCK      3379\n",
       "NINE OCLOCK       3358\n",
       "UNKNOWN           3081\n",
       "UNDERSIDE          524\n",
       "NON-COLLISION      394\n",
       "ROOF TOP           354\n",
       "Name: Vehicle First Impact Location, dtype: int64"
      ]
     },
     "execution_count": 21,
     "metadata": {},
     "output_type": "execute_result"
    }
   ],
   "source": [
    "crash['Vehicle First Impact Location'].value_counts()"
   ]
  },
  {
   "cell_type": "code",
   "execution_count": 22,
   "id": "a6e94da9",
   "metadata": {},
   "outputs": [
    {
     "data": {
      "text/plain": [
       "TWELVE OCLOCK    67762\n",
       "SIX OCLOCK       33922\n",
       "ONE OCLOCK       15865\n",
       "ELEVEN OCLOCK    13438\n",
       "TWO OCLOCK        6476\n",
       "TEN OCLOCK        6314\n",
       "SEVEN OCLOCK      4224\n",
       "FOUR OCLOCK       4173\n",
       "FIVE OCLOCK       4021\n",
       "EIGHT OCLOCK      3808\n",
       "THREE OCLOCK      3660\n",
       "NINE OCLOCK       3547\n",
       "UNKNOWN           3070\n",
       "UNDERSIDE          650\n",
       "ROOF TOP           543\n",
       "NON-COLLISION      376\n",
       "Name: Vehicle Second Impact Location, dtype: int64"
      ]
     },
     "execution_count": 22,
     "metadata": {},
     "output_type": "execute_result"
    }
   ],
   "source": [
    "crash['Vehicle Second Impact Location'].value_counts()"
   ]
  },
  {
   "cell_type": "code",
   "execution_count": 23,
   "id": "b6f6377e",
   "metadata": {},
   "outputs": [
    {
     "data": {
      "text/plain": [
       "PASSENGER CAR                                                119102\n",
       "(SPORT) UTILITY VEHICLE                                       15991\n",
       "PICKUP TRUCK                                                   6786\n",
       "VAN                                                            4957\n",
       "TRANSIT BUS                                                    3642\n",
       "SCHOOL BUS                                                     2975\n",
       "POLICE VEHICLE/NON EMERGENCY                                   2116\n",
       "OTHER LIGHT TRUCKS (10,000LBS (4,536KG) OR LESS)               1909\n",
       "CARGO VAN/LIGHT TRUCK 2 AXLES (OVER 10,000LBS (4,536 KG))      1858\n",
       "OTHER                                                          1539\n",
       "POLICE VEHICLE/EMERGENCY                                       1498\n",
       "MEDIUM/HEAVY TRUCKS 3 AXLES (OVER 10,000LBS (4,536KG))         1469\n",
       "UNKNOWN                                                        1061\n",
       "MOTORCYCLE                                                      889\n",
       "STATION WAGON                                                   692\n",
       "TRUCK TRACTOR                                                   500\n",
       "AMBULANCE/EMERGENCY                                             466\n",
       "FIRE VEHICLE/EMERGENCY                                          438\n",
       "OTHER BUS                                                       418\n",
       "FIRE VEHICLE/NON EMERGENCY                                      296\n",
       "RECREATIONAL VEHICLE                                            197\n",
       "AMBULANCE/NON EMERGENCY                                         185\n",
       "SNOWMOBILE                                                      123\n",
       "ALL TERRAIN VEHICLE (ATV)                                       119\n",
       "MOPED                                                            87\n",
       "AUTOCYCLE                                                        41\n",
       "LOW SPEED VEHICLE                                                34\n",
       "CROSS COUNTRY BUS                                                31\n",
       "FARM VEHICLE                                                     21\n",
       "LIMOUSINE                                                        16\n",
       "Name: Vehicle Body Type, dtype: int64"
      ]
     },
     "execution_count": 23,
     "metadata": {},
     "output_type": "execute_result"
    }
   ],
   "source": [
    "crash['Vehicle Body Type'].value_counts()"
   ]
  },
  {
   "cell_type": "code",
   "execution_count": 24,
   "id": "8f951803",
   "metadata": {},
   "outputs": [
    {
     "data": {
      "text/plain": [
       "MOVING CONSTANT SPEED      67233\n",
       "SLOWING OR STOPPING        24452\n",
       "STOPPED IN TRAFFIC LANE    18399\n",
       "MAKING LEFT TURN           16611\n",
       "ACCELERATING                9659\n",
       "BACKING                     5783\n",
       "MAKING RIGHT TURN           5414\n",
       "CHANGING LANES              4682\n",
       "STARTING FROM LANE          4507\n",
       "UNKNOWN                     2821\n",
       "PARKED                      2689\n",
       "PARKING                     1933\n",
       "STARTING FROM PARKED        1894\n",
       "MAKING U TURN               1225\n",
       "PASSING                      954\n",
       "OTHER                        898\n",
       "ENTERING TRAFFIC LANE        819\n",
       "SKIDDING                     690\n",
       "NEGOTIATING A CURVE          545\n",
       "RIGHT TURN ON RED            267\n",
       "LEAVING TRAFFIC LANE         207\n",
       "DRIVERLESS MOVING VEH.        37\n",
       "Name: Vehicle Movement, dtype: int64"
      ]
     },
     "execution_count": 24,
     "metadata": {},
     "output_type": "execute_result"
    }
   ],
   "source": [
    "crash['Vehicle Movement'].value_counts()"
   ]
  },
  {
   "cell_type": "code",
   "execution_count": 25,
   "id": "611f988c",
   "metadata": {},
   "outputs": [
    {
     "data": {
      "text/plain": [
       "North      46845\n",
       "South      45951\n",
       "East       36096\n",
       "West       34866\n",
       "Unknown     5658\n",
       "Name: Vehicle Continuing Dir, dtype: int64"
      ]
     },
     "execution_count": 25,
     "metadata": {},
     "output_type": "execute_result"
    }
   ],
   "source": [
    "crash['Vehicle Continuing Dir'].value_counts()"
   ]
  },
  {
   "cell_type": "code",
   "execution_count": 26,
   "id": "6efa8661",
   "metadata": {},
   "outputs": [
    {
     "data": {
      "text/plain": [
       "North      47645\n",
       "South      46682\n",
       "East       35296\n",
       "West       34764\n",
       "Unknown     5029\n",
       "Name: Vehicle Going Dir, dtype: int64"
      ]
     },
     "execution_count": 26,
     "metadata": {},
     "output_type": "execute_result"
    }
   ],
   "source": [
    "crash['Vehicle Going Dir'].value_counts()"
   ]
  },
  {
   "cell_type": "code",
   "execution_count": 27,
   "id": "5a5d1730",
   "metadata": {},
   "outputs": [
    {
     "data": {
      "text/plain": [
       "ROCKVILLE              9320\n",
       "GAITHERSBURG           6437\n",
       "TAKOMA PARK            1685\n",
       "KENSINGTON              413\n",
       "CHEVY CHASE #4          325\n",
       "CHEVY CHASE #3          156\n",
       "FRIENDSHIP HEIGHTS      133\n",
       "POOLESVILLE             108\n",
       "CHEVY CHASE VIEW         93\n",
       "CHEVY CHASE VILLAGE      87\n",
       "CHEVY CHASE #5           74\n",
       "SOMERSET                 53\n",
       "GARRETT PARK             53\n",
       "WASHINGTON GROVE         41\n",
       "NORTH CHEVY CHASE        34\n",
       "GLEN ECHO                33\n",
       "MATINS ADDITION          28\n",
       "LAYTONSVILLE             25\n",
       "BROOKEVILLE              16\n",
       "DRUMMOND                 12\n",
       "Name: Municipality, dtype: int64"
      ]
     },
     "execution_count": 27,
     "metadata": {},
     "output_type": "execute_result"
    }
   ],
   "source": [
    "crash['Municipality'].value_counts()"
   ]
  },
  {
   "cell_type": "markdown",
   "id": "0b70f97c",
   "metadata": {},
   "source": [
    "# Conflicting Columns - Route Type & Cross-Street Type\n",
    "### Delete Route Type as has more Null values"
   ]
  },
  {
   "cell_type": "code",
   "execution_count": 28,
   "id": "5340d7a3",
   "metadata": {},
   "outputs": [
    {
     "data": {
      "text/plain": [
       "Maryland (State)        77074\n",
       "County                  55568\n",
       "Municipality             9379\n",
       "US (State)               7567\n",
       "Interstate (State)       3149\n",
       "Other Public Roadway     1129\n",
       "Government                627\n",
       "Ramp                      579\n",
       "Service Road               40\n",
       "Unknown                    20\n",
       "Name: Route Type, dtype: int64"
      ]
     },
     "execution_count": 28,
     "metadata": {},
     "output_type": "execute_result"
    }
   ],
   "source": [
    "crash['Route Type'].value_counts()"
   ]
  },
  {
   "cell_type": "code",
   "execution_count": 29,
   "id": "9b34cc3d",
   "metadata": {},
   "outputs": [
    {
     "data": {
      "text/plain": [
       "County                  85535\n",
       "Maryland (State)        24274\n",
       "Municipality            19160\n",
       "Unknown                 12999\n",
       "Ramp                     5915\n",
       "Other Public Roadway     3800\n",
       "US (State)               1473\n",
       "Government               1177\n",
       "Interstate (State)        675\n",
       "Service Road               91\n",
       "Name: Cross-Street Type, dtype: int64"
      ]
     },
     "execution_count": 29,
     "metadata": {},
     "output_type": "execute_result"
    }
   ],
   "source": [
    "crash['Cross-Street Type'].value_counts()"
   ]
  },
  {
   "cell_type": "code",
   "execution_count": 30,
   "id": "8f270553",
   "metadata": {},
   "outputs": [
    {
     "data": {
      "text/plain": [
       "Route Type           16973\n",
       "Cross-Street Type    17006\n",
       "dtype: int64"
      ]
     },
     "execution_count": 30,
     "metadata": {},
     "output_type": "execute_result"
    }
   ],
   "source": [
    "crash[['Route Type', 'Cross-Street Type']].isnull().sum()"
   ]
  },
  {
   "cell_type": "markdown",
   "id": "9463a122",
   "metadata": {},
   "source": [
    "# Use Off Road Column to fill NaN in Cross Street Type"
   ]
  },
  {
   "cell_type": "code",
   "execution_count": 31,
   "id": "360c4843",
   "metadata": {},
   "outputs": [
    {
     "data": {
      "text/plain": [
       "Off-Road Description    156170\n",
       "Cross-Street Type        17006\n",
       "dtype: int64"
      ]
     },
     "execution_count": 31,
     "metadata": {},
     "output_type": "execute_result"
    }
   ],
   "source": [
    "crash[['Off-Road Description', 'Cross-Street Type']].isnull().sum()"
   ]
  },
  {
   "cell_type": "code",
   "execution_count": 32,
   "id": "922cf040",
   "metadata": {},
   "outputs": [],
   "source": [
    "def fill_cross_street_type(row):\n",
    "    if pd.isna(row['Cross-Street Type']) and pd.notna(row['Off-Road Description']):\n",
    "        return 'Off Road'\n",
    "    else:\n",
    "        return row['Cross-Street Type']\n",
    "\n",
    "# Apply the function to the DataFrame\n",
    "crash['Cross-Street Type'] = crash.apply(fill_cross_street_type, axis=1)"
   ]
  },
  {
   "cell_type": "code",
   "execution_count": 33,
   "id": "46be611d",
   "metadata": {},
   "outputs": [
    {
     "data": {
      "text/plain": [
       "Off-Road Description    156170\n",
       "Cross-Street Type         1071\n",
       "dtype: int64"
      ]
     },
     "execution_count": 33,
     "metadata": {},
     "output_type": "execute_result"
    }
   ],
   "source": [
    "crash[['Off-Road Description', 'Cross-Street Type']].isnull().sum()"
   ]
  },
  {
   "cell_type": "code",
   "execution_count": 34,
   "id": "069b5a98",
   "metadata": {},
   "outputs": [
    {
     "data": {
      "text/plain": [
       "County                  85535\n",
       "Maryland (State)        24274\n",
       "Municipality            19160\n",
       "Off Road                15935\n",
       "Unknown                 12999\n",
       "Ramp                     5915\n",
       "Other Public Roadway     3800\n",
       "US (State)               1473\n",
       "Government               1177\n",
       "Interstate (State)        675\n",
       "Service Road               91\n",
       "Name: Cross-Street Type, dtype: int64"
      ]
     },
     "execution_count": 34,
     "metadata": {},
     "output_type": "execute_result"
    }
   ],
   "source": [
    "crash['Cross-Street Type'].value_counts()"
   ]
  },
  {
   "cell_type": "markdown",
   "id": "1f83aa72",
   "metadata": {},
   "source": [
    "### Fill Surface Condition with Weather"
   ]
  },
  {
   "cell_type": "code",
   "execution_count": 35,
   "id": "d29cf72c",
   "metadata": {},
   "outputs": [
    {
     "data": {
      "text/plain": [
       "Weather              13354\n",
       "Surface Condition     2889\n",
       "dtype: int64"
      ]
     },
     "execution_count": 35,
     "metadata": {},
     "output_type": "execute_result"
    }
   ],
   "source": [
    "crash['Weather'].value_counts()\n",
    "crash['Surface Condition'].value_counts()\n",
    "crash[['Weather', 'Surface Condition']].isnull().sum()\n",
    "crash['Surface Condition'] = crash['Surface Condition'].fillna(crash['Weather'])\n",
    "crash[['Weather', 'Surface Condition']].isnull().sum()"
   ]
  },
  {
   "cell_type": "markdown",
   "id": "a2dd79b7",
   "metadata": {},
   "source": [
    "# Delete Columns Round 2"
   ]
  },
  {
   "cell_type": "code",
   "execution_count": 36,
   "id": "a15e9c43",
   "metadata": {},
   "outputs": [
    {
     "name": "stdout",
     "output_type": "stream",
     "text": [
      "<class 'pandas.core.frame.DataFrame'>\n",
      "RangeIndex: 172105 entries, 0 to 172104\n",
      "Data columns (total 26 columns):\n",
      " #   Column                          Non-Null Count   Dtype  \n",
      "---  ------                          --------------   -----  \n",
      " 0   Report Number                   172105 non-null  object \n",
      " 1   ACRS Report Type                172105 non-null  object \n",
      " 2   Crash Date/Time                 172105 non-null  object \n",
      " 3   Cross-Street Type               171034 non-null  object \n",
      " 4   Collision Type                  171520 non-null  object \n",
      " 5   Surface Condition               169216 non-null  object \n",
      " 6   Light                           170660 non-null  object \n",
      " 7   Traffic Control                 146636 non-null  object \n",
      " 8   Driver Substance Abuse          140781 non-null  object \n",
      " 9   Driver At Fault                 172105 non-null  object \n",
      " 10  Injury Severity                 172105 non-null  object \n",
      " 11  Driver Distracted By            172105 non-null  object \n",
      " 12  Vehicle First Impact Location   171949 non-null  object \n",
      " 13  Vehicle Second Impact Location  171849 non-null  object \n",
      " 14  Vehicle Body Type               169456 non-null  object \n",
      " 15  Vehicle Movement                171719 non-null  object \n",
      " 16  Speed Limit                     172105 non-null  int64  \n",
      " 17  Driverless Vehicle              172105 non-null  object \n",
      " 18  Parked Vehicle                  172105 non-null  object \n",
      " 19  Vehicle Year                    172105 non-null  int64  \n",
      " 20  Vehicle Make                    172081 non-null  object \n",
      " 21  Vehicle Model                   172039 non-null  object \n",
      " 22  Equipment Problems              172105 non-null  object \n",
      " 23  Latitude                        172105 non-null  float64\n",
      " 24  Longitude                       172105 non-null  float64\n",
      " 25  Location                        172105 non-null  object \n",
      "dtypes: float64(2), int64(2), object(22)\n",
      "memory usage: 34.1+ MB\n"
     ]
    }
   ],
   "source": [
    "drop_columns_2 = [\n",
    "    'Route Type', 'Municipality', 'Weather', 'Non-Motorist Substance Abuse', 'Circumstance', \n",
    "    'Vehicle Damage Extent', 'Vehicle Continuing Dir', 'Vehicle Going Dir', 'Off-Road Description'\n",
    "]\n",
    "\n",
    "crash = crash.drop(columns=drop_columns_2, axis=1)\n",
    "crash.info()                 "
   ]
  },
  {
   "cell_type": "markdown",
   "id": "7ff8740d",
   "metadata": {},
   "source": [
    "# Fill Missing with mode"
   ]
  },
  {
   "cell_type": "code",
   "execution_count": 37,
   "id": "1250fee1",
   "metadata": {},
   "outputs": [
    {
     "data": {
      "text/plain": [
       "Report Number                         0\n",
       "ACRS Report Type                      0\n",
       "Crash Date/Time                       0\n",
       "Cross-Street Type                  1071\n",
       "Collision Type                      585\n",
       "Surface Condition                  2889\n",
       "Light                              1445\n",
       "Traffic Control                   25469\n",
       "Driver Substance Abuse            31324\n",
       "Driver At Fault                       0\n",
       "Injury Severity                       0\n",
       "Driver Distracted By                  0\n",
       "Vehicle First Impact Location       156\n",
       "Vehicle Second Impact Location      256\n",
       "Vehicle Body Type                  2649\n",
       "Vehicle Movement                    386\n",
       "Driverless Vehicle                    0\n",
       "Parked Vehicle                        0\n",
       "Vehicle Make                         24\n",
       "Vehicle Model                        66\n",
       "Equipment Problems                    0\n",
       "Location                              0\n",
       "dtype: int64"
      ]
     },
     "execution_count": 37,
     "metadata": {},
     "output_type": "execute_result"
    }
   ],
   "source": [
    "crash_cat = crash.select_dtypes(exclude=['float', 'int'])\n",
    "crash_cat.isnull().sum()"
   ]
  },
  {
   "cell_type": "code",
   "execution_count": 38,
   "id": "7075b9df",
   "metadata": {},
   "outputs": [],
   "source": [
    "mode_fill_columns = [\n",
    "    'Cross-Street Type',                   \n",
    "    'Collision Type',\n",
    "    'Surface Condition',\n",
    "    'Light',\n",
    "    'Traffic Control',\n",
    "    'Driver Substance Abuse',\n",
    "    'Vehicle First Impact Location',\n",
    "    'Vehicle Second Impact Location',\n",
    "    'Vehicle Body Type',\n",
    "    'Vehicle Movement',\n",
    "    'Vehicle Make',\n",
    "    'Vehicle Model'\n",
    "]\n",
    "for column in mode_fill_columns:\n",
    "    crash[column].fillna(crash[column].mode()[0], inplace=True)"
   ]
  },
  {
   "cell_type": "code",
   "execution_count": 39,
   "id": "5924d0b1",
   "metadata": {},
   "outputs": [
    {
     "name": "stdout",
     "output_type": "stream",
     "text": [
      "<class 'pandas.core.frame.DataFrame'>\n",
      "RangeIndex: 172105 entries, 0 to 172104\n",
      "Data columns (total 26 columns):\n",
      " #   Column                          Non-Null Count   Dtype  \n",
      "---  ------                          --------------   -----  \n",
      " 0   Report Number                   172105 non-null  object \n",
      " 1   ACRS Report Type                172105 non-null  object \n",
      " 2   Crash Date/Time                 172105 non-null  object \n",
      " 3   Cross-Street Type               172105 non-null  object \n",
      " 4   Collision Type                  172105 non-null  object \n",
      " 5   Surface Condition               172105 non-null  object \n",
      " 6   Light                           172105 non-null  object \n",
      " 7   Traffic Control                 172105 non-null  object \n",
      " 8   Driver Substance Abuse          172105 non-null  object \n",
      " 9   Driver At Fault                 172105 non-null  object \n",
      " 10  Injury Severity                 172105 non-null  object \n",
      " 11  Driver Distracted By            172105 non-null  object \n",
      " 12  Vehicle First Impact Location   172105 non-null  object \n",
      " 13  Vehicle Second Impact Location  172105 non-null  object \n",
      " 14  Vehicle Body Type               172105 non-null  object \n",
      " 15  Vehicle Movement                172105 non-null  object \n",
      " 16  Speed Limit                     172105 non-null  int64  \n",
      " 17  Driverless Vehicle              172105 non-null  object \n",
      " 18  Parked Vehicle                  172105 non-null  object \n",
      " 19  Vehicle Year                    172105 non-null  int64  \n",
      " 20  Vehicle Make                    172105 non-null  object \n",
      " 21  Vehicle Model                   172105 non-null  object \n",
      " 22  Equipment Problems              172105 non-null  object \n",
      " 23  Latitude                        172105 non-null  float64\n",
      " 24  Longitude                       172105 non-null  float64\n",
      " 25  Location                        172105 non-null  object \n",
      "dtypes: float64(2), int64(2), object(22)\n",
      "memory usage: 34.1+ MB\n"
     ]
    }
   ],
   "source": [
    "crash.info()"
   ]
  },
  {
   "cell_type": "code",
   "execution_count": 40,
   "id": "86a6f2dc",
   "metadata": {},
   "outputs": [],
   "source": [
    "crash1 = crash.copy()"
   ]
  },
  {
   "cell_type": "markdown",
   "id": "0640fbc6",
   "metadata": {},
   "source": [
    "# Categorical Feature Engineering\n",
    "\n",
    "### Mapping"
   ]
  },
  {
   "cell_type": "code",
   "execution_count": 41,
   "id": "ddd25d74",
   "metadata": {},
   "outputs": [
    {
     "data": {
      "text/plain": [
       "SAME DIR REAR END               56340\n",
       "STRAIGHT MOVEMENT ANGLE         30340\n",
       "OTHER                           19030\n",
       "SAME DIRECTION SIDESWIPE        16226\n",
       "SINGLE VEHICLE                  15869\n",
       "HEAD ON LEFT TURN               12926\n",
       "SAME DIRECTION RIGHT TURN        3832\n",
       "HEAD ON                          3786\n",
       "SAME DIRECTION LEFT TURN         3715\n",
       "OPPOSITE DIRECTION SIDESWIPE     2883\n",
       "ANGLE MEETS LEFT TURN            2033\n",
       "ANGLE MEETS RIGHT TURN           1204\n",
       "SAME DIR REND LEFT TURN           743\n",
       "SAME DIR REND RIGHT TURN          720\n",
       "SAME DIR BOTH LEFT TURN           719\n",
       "UNKNOWN                           717\n",
       "ANGLE MEETS LEFT HEAD ON          700\n",
       "OPPOSITE DIR BOTH LEFT TURN       322\n",
       "Name: Collision Type, dtype: int64"
      ]
     },
     "execution_count": 41,
     "metadata": {},
     "output_type": "execute_result"
    }
   ],
   "source": [
    "crash1['Collision Type'].value_counts()"
   ]
  },
  {
   "cell_type": "code",
   "execution_count": 42,
   "id": "4827ea92",
   "metadata": {},
   "outputs": [],
   "source": [
    "mapping_direction = {\n",
    "    'SAME DIR REAR END': 'Same Direction',\n",
    "    'SAME DIRECTION SIDESWIPE': 'Same Direction',\n",
    "    'SAME DIRECTION RIGHT TURN': 'Same Direction',\n",
    "    'SAME DIRECTION LEFT TURN': 'Same Direction',\n",
    "    'SAME DIR REND LEFT TURN': 'Same Direction',\n",
    "    'SAME DIR REND RIGHT TURN': 'Same Direction',\n",
    "    'SAME DIR BOTH LEFT TURN': 'Same Direction',\n",
    "    \n",
    "    'STRAIGHT MOVEMENT ANGLE': 'Angle Collision',\n",
    "    'ANGLE MEETS LEFT TURN': 'Angle Collision',\n",
    "    'ANGLE MEETS RIGHT TURN': 'Angle Collision',\n",
    "    'ANGLE MEETS LEFT HEAD ON': 'Angle Collision',\n",
    "    \n",
    "    'HEAD ON LEFT TURN': 'Head-On Collision',\n",
    "    'HEAD ON': 'Head-On Collision',\n",
    "    'OPPOSITE DIR BOTH LEFT TURN': 'Head-On Collision',\n",
    "    'OPPOSITE DIRECTION SIDESWIPE': 'Head-On Collision',\n",
    "    \n",
    "    'SINGLE VEHICLE': 'Single Vehicle',\n",
    "    \n",
    "    'OTHER': 'Other',\n",
    "    \n",
    "    'UNKNOWN': 'Unknown'\n",
    "}\n",
    "\n",
    "# Apply the mapping\n",
    "crash1['Collision'] = crash1['Collision Type'].map(mapping_direction)"
   ]
  },
  {
   "cell_type": "code",
   "execution_count": 43,
   "id": "924e2c82",
   "metadata": {},
   "outputs": [],
   "source": [
    "mapping_turn = {\n",
    "    'SAME DIR REAR END': 'No Turn',\n",
    "    'SAME DIRECTION SIDESWIPE': 'No Turn',\n",
    "    'SAME DIRECTION RIGHT TURN': 'Right Turn',\n",
    "    'SAME DIRECTION LEFT TURN': 'Left Turn',\n",
    "    'SAME DIR REND LEFT TURN': 'Left Turn',\n",
    "    'SAME DIR REND RIGHT TURN': 'Right Turn',\n",
    "    'SAME DIR BOTH LEFT TURN': 'Left Turn',\n",
    "    \n",
    "    'STRAIGHT MOVEMENT ANGLE': 'No Turn',\n",
    "    'ANGLE MEETS LEFT TURN': 'Left Turn',\n",
    "    'ANGLE MEETS RIGHT TURN': 'Right Turn',\n",
    "    'ANGLE MEETS LEFT HEAD ON': ' No Turn',\n",
    "    \n",
    "    'HEAD ON LEFT TURN': 'Left Turn',\n",
    "    'HEAD ON': 'No Turn',\n",
    "    'OPPOSITE DIR BOTH LEFT TURN': 'Left Turn',\n",
    "    'OPPOSITE DIRECTION SIDESWIPE': 'No Turn',\n",
    "    \n",
    "    'SINGLE VEHICLE': 'No Turn',\n",
    "    \n",
    "    'OTHER': 'No Turn',\n",
    "    \n",
    "    'UNKNOWN': 'No Turn'\n",
    "}\n",
    "\n",
    "# Apply the mapping\n",
    "crash1['Turn'] = crash1['Collision Type'].map(mapping_turn)"
   ]
  },
  {
   "cell_type": "code",
   "execution_count": 44,
   "id": "e6d14c9e",
   "metadata": {},
   "outputs": [],
   "source": [
    "mapping_light = {\n",
    "    'DAYLIGHT': 'Daylight',\n",
    "    'DARK LIGHTS ON': 'Dark',\n",
    "    'DARK NO LIGHTS': 'Dark',\n",
    "    'DARK -- UNKNOWN LIGHTING': 'Dark',\n",
    "    'DUSK': 'Dusk', \n",
    "    'DAWN': 'Dawn',\n",
    "    \n",
    "    'OTHER': 'Other',\n",
    "    \n",
    "    'UNKNOWN': 'Unknown'\n",
    "}\n",
    "\n",
    "# Apply the mapping\n",
    "crash1['Light Conditions'] = crash1['Light'].map(mapping_light)"
   ]
  },
  {
   "cell_type": "code",
   "execution_count": 45,
   "id": "ccde310d",
   "metadata": {},
   "outputs": [],
   "source": [
    "mapping_substance = {\n",
    "    'ALCOHOL PRESENT': 'Alcohol',\n",
    "    'ALCOHOL CONTRIBUTED': 'Alcohol',\n",
    "    'ILLEGAL DRUG PRESENT': 'Illegal Drug',\n",
    "    'ILLEGAL DRUG CONTRIBUTED': 'Illegal Drug',\n",
    "    'MEDICATION PRESENT': 'Medication',\n",
    "    'MEDICATION CONTRIBUTED': 'Medication',\n",
    "    'COMBINED SUBSTANCE PRESENT': 'Combination',\n",
    "    'COMBINATION CONTRIBUTED': 'Combination',\n",
    "    'OTHER': 'Other',\n",
    "    'NONE DETECTED': 'None Detected',\n",
    "    'UNKNOWN': 'Unknown'\n",
    "}\n",
    "\n",
    "# Apply the mapping\n",
    "crash1['Substance'] = crash1['Driver Substance Abuse'].map(mapping_substance)"
   ]
  },
  {
   "cell_type": "code",
   "execution_count": 46,
   "id": "14f55f94",
   "metadata": {},
   "outputs": [
    {
     "data": {
      "text/plain": [
       "NOT DISTRACTED                                       106709\n",
       "UNKNOWN                                               32804\n",
       "LOOKED BUT DID NOT SEE                                21544\n",
       "INATTENTIVE OR LOST IN THOUGHT                         4319\n",
       "OTHER DISTRACTION                                      3245\n",
       "DISTRACTED BY OUTSIDE PERSON OBJECT OR EVENT            970\n",
       "BY OTHER OCCUPANTS                                      418\n",
       "OTHER CELLULAR PHONE RELATED                            372\n",
       "OTHER ELECTRONIC DEVICE (NAVIGATIONAL PALM PILOT)       325\n",
       "TALKING OR LISTENING TO CELLULAR PHONE                  282\n",
       "NO DRIVER PRESENT                                       280\n",
       "BY MOVING OBJECT IN VEHICLE                             212\n",
       "EATING OR DRINKING                                      196\n",
       "ADJUSTING AUDIO AND OR CLIMATE CONTROLS                 134\n",
       "USING OTHER DEVICE CONTROLS INTEGRAL TO VEHICLE          92\n",
       "TEXTING FROM A CELLULAR PHONE                            66\n",
       "USING DEVICE OBJECT BROUGHT INTO VEHICLE                 63\n",
       "DIALING CELLULAR PHONE                                   48\n",
       "SMOKING RELATED                                          26\n",
       "Name: Driver Distracted By, dtype: int64"
      ]
     },
     "execution_count": 46,
     "metadata": {},
     "output_type": "execute_result"
    }
   ],
   "source": [
    "crash1['Driver Distracted By'].value_counts()"
   ]
  },
  {
   "cell_type": "code",
   "execution_count": 47,
   "id": "97b6bc4d",
   "metadata": {},
   "outputs": [],
   "source": [
    "mapping_distraction = {\n",
    "    'NOT DISTRACTED': 'Not Distracted',\n",
    "    'UNKNOWN': 'Unknown',\n",
    "    'LOOKED BUT DID NOT SEE': 'Unknown',\n",
    "    'INATTENTIVE OR LOST IN THOUGHT': 'Unknown',\n",
    "    'OTHER DISTRACTION': 'Distracted',\n",
    "    'DISTRACTED BY OUTSIDE PERSON OBJECT OR EVENT': 'Distracted',\n",
    "    'BY MOVING OBJECT IN VEHICLE': 'Distracted',\n",
    "    'BY OTHER OCCUPANTS': 'Distracted',\n",
    "    'OTHER CELLULAR PHONE RELATED': 'Phone',\n",
    "    'TALKING OR LISTENING TO CELLULAR PHONE': 'Phone',\n",
    "    'TEXTING FROM A CELLULAR PHONE': 'Phone',\n",
    "    'DIALING CELLULAR PHONE': 'Phone',\n",
    "    'OTHER ELECTRONIC DEVICE (NAVIGATIONAL PALM PILOT)': 'Other Device',\n",
    "    'ADJUSTING AUDIO AND OR CLIMATE CONTROLS': 'Other Device',\n",
    "    'USING OTHER DEVICE CONTROLS INTEGRAL TO VEHICLE': 'Other Device',\n",
    "    'USING DEVICE OBJECT BROUGHT INTO VEHICLE': 'Other Device',\n",
    "    'EATING OR DRINKING': 'Eating/Drinking',\n",
    "    'SMOKING RELATED': 'Smoking',\n",
    "    'NO DRIVER PRESENT': 'No Driver'\n",
    "}\n",
    "\n",
    "# Apply the mapping\n",
    "crash1['Distraction'] = crash1['Driver Distracted By'].map(mapping_distraction)"
   ]
  },
  {
   "cell_type": "code",
   "execution_count": 48,
   "id": "0899c95e",
   "metadata": {},
   "outputs": [
    {
     "data": {
      "text/plain": [
       "DRY                         123458\n",
       "WET                          28426\n",
       "CLEAR                        13566\n",
       "CLOUDY                        1775\n",
       "RAINING                       1326\n",
       "ICE                           1058\n",
       "SNOW                          1054\n",
       "UNKNOWN                        830\n",
       "SLUSH                          204\n",
       "OTHER                          193\n",
       "MUD, DIRT, GRAVEL               46\n",
       "WATER(STANDING/MOVING)          41\n",
       "FOGGY                           39\n",
       "OIL                             28\n",
       "WINTRY MIX                      22\n",
       "SLEET                           13\n",
       "SEVERE WINDS                    11\n",
       "BLOWING SNOW                     9\n",
       "SAND                             4\n",
       "BLOWING SAND, SOIL, DIRT         2\n",
       "Name: Surface Condition, dtype: int64"
      ]
     },
     "execution_count": 48,
     "metadata": {},
     "output_type": "execute_result"
    }
   ],
   "source": [
    "crash1['Surface Condition'].value_counts()"
   ]
  },
  {
   "cell_type": "code",
   "execution_count": 49,
   "id": "6c44fb8c",
   "metadata": {},
   "outputs": [],
   "source": [
    "mapping_conditions = {\n",
    "    'DRY': 'DRY',\n",
    "    'WET': 'WET',\n",
    "    'CLEAR': 'DRY',\n",
    "    'CLOUDY': 'CLOUDY',\n",
    "    'RAINING': 'WET',\n",
    "    'ICE': 'SNOW',\n",
    "    'SNOW': 'SNOW',\n",
    "    'UNKNOWN': 'UNKNOWN',\n",
    "    'SLUSH': 'SNOW',\n",
    "    'OTHER': 'OTHER',\n",
    "    'MUD, DIRT, GRAVEL': 'SURFACE CONTAMINANTS',\n",
    "    'WATER(STANDING/MOVING)': 'WET',\n",
    "    'FOGGY': 'FOGGY',\n",
    "    'OIL': 'SURFACE CONTAMINANTS',\n",
    "    'WINTRY MIX': 'SNOW',\n",
    "    'SLEET': 'SNOW',\n",
    "    'SEVERE WINDS': 'WIND',\n",
    "    'BLOWING SNOW': 'SNOW',\n",
    "    'SAND': 'SURFACE CONTAMINANTS',\n",
    "    'BLOWING SAND, SOIL, DIRT': 'WIND'\n",
    "}\n",
    "\n",
    "crash1['Conditions'] = crash1['Surface Condition'].map(mapping_conditions)"
   ]
  },
  {
   "cell_type": "code",
   "execution_count": 50,
   "id": "e245927d",
   "metadata": {},
   "outputs": [
    {
     "data": {
      "text/plain": [
       "DRY                     137024\n",
       "WET                      29793\n",
       "SNOW                      2360\n",
       "CLOUDY                    1775\n",
       "UNKNOWN                    830\n",
       "OTHER                      193\n",
       "SURFACE CONTAMINANTS        78\n",
       "FOGGY                       39\n",
       "WIND                        13\n",
       "Name: Conditions, dtype: int64"
      ]
     },
     "execution_count": 50,
     "metadata": {},
     "output_type": "execute_result"
    }
   ],
   "source": [
    "crash1['Conditions'].value_counts()"
   ]
  },
  {
   "cell_type": "code",
   "execution_count": 51,
   "id": "1fb1178a",
   "metadata": {},
   "outputs": [
    {
     "data": {
      "text/plain": [
       "MOVING CONSTANT SPEED      67619\n",
       "SLOWING OR STOPPING        24452\n",
       "STOPPED IN TRAFFIC LANE    18399\n",
       "MAKING LEFT TURN           16611\n",
       "ACCELERATING                9659\n",
       "BACKING                     5783\n",
       "MAKING RIGHT TURN           5414\n",
       "CHANGING LANES              4682\n",
       "STARTING FROM LANE          4507\n",
       "UNKNOWN                     2821\n",
       "PARKED                      2689\n",
       "PARKING                     1933\n",
       "STARTING FROM PARKED        1894\n",
       "MAKING U TURN               1225\n",
       "PASSING                      954\n",
       "OTHER                        898\n",
       "ENTERING TRAFFIC LANE        819\n",
       "SKIDDING                     690\n",
       "NEGOTIATING A CURVE          545\n",
       "RIGHT TURN ON RED            267\n",
       "LEAVING TRAFFIC LANE         207\n",
       "DRIVERLESS MOVING VEH.        37\n",
       "Name: Vehicle Movement, dtype: int64"
      ]
     },
     "execution_count": 51,
     "metadata": {},
     "output_type": "execute_result"
    }
   ],
   "source": [
    "crash1['Vehicle Movement'].value_counts()"
   ]
  },
  {
   "cell_type": "code",
   "execution_count": 52,
   "id": "52efd749",
   "metadata": {},
   "outputs": [],
   "source": [
    "mapping_movement = {\n",
    "    'MOVING CONSTANT SPEED': 'Travelling Forward',\n",
    "    'SLOWING OR STOPPING': 'Slowing',\n",
    "    'STOPPED IN TRAFFIC LANE': 'Stationary',\n",
    "    'MAKING LEFT TURN': 'Turning',\n",
    "    'ACCELERATING': 'Travelling Forward',\n",
    "    'BACKING': 'Reversing',\n",
    "    'MAKING RIGHT TURN': 'Turning',\n",
    "    'CHANGING LANES': 'Crossing Lanes',\n",
    "    'STARTING FROM LANE': 'Starting',\n",
    "    'UNKNOWN': 'Unknown',\n",
    "    'PARKED': 'Stationary',\n",
    "    'PARKING': 'Slowing',\n",
    "    'STARTING FROM PARKED': 'Starting',\n",
    "    'MAKING U TURN': 'Turning',\n",
    "    'PASSING': 'Crossing Lanes',\n",
    "    'OTHER': 'Other',\n",
    "    'ENTERING TRAFFIC LANE': 'Crossing Lanes',\n",
    "    'SKIDDING': 'Slowing',\n",
    "    'NEGOTIATING A CURVE': 'Travelling Forward',\n",
    "    'RIGHT TURN ON RED': 'Turning',\n",
    "    'LEAVING TRAFFIC LANE': 'Crossing Lanes',\n",
    "    'DRIVERLESS MOVING VEH.': 'Driverless Vehicle'\n",
    "\n",
    "}\n",
    "\n",
    "crash1['Movement'] = crash1['Vehicle Movement'].map(mapping_movement)\n"
   ]
  },
  {
   "cell_type": "code",
   "execution_count": 53,
   "id": "c9acf786",
   "metadata": {},
   "outputs": [
    {
     "data": {
      "text/plain": [
       "No     169416\n",
       "Yes      2689\n",
       "Name: Parked Vehicle, dtype: int64"
      ]
     },
     "execution_count": 53,
     "metadata": {},
     "output_type": "execute_result"
    }
   ],
   "source": [
    "crash1['Parked Vehicle'].value_counts()"
   ]
  },
  {
   "cell_type": "code",
   "execution_count": 54,
   "id": "709d00e0",
   "metadata": {},
   "outputs": [
    {
     "data": {
      "text/plain": [
       "No         171367\n",
       "Unknown       738\n",
       "Name: Driverless Vehicle, dtype: int64"
      ]
     },
     "execution_count": 54,
     "metadata": {},
     "output_type": "execute_result"
    }
   ],
   "source": [
    "crash1['Driverless Vehicle'].value_counts()"
   ]
  },
  {
   "cell_type": "code",
   "execution_count": 55,
   "id": "2dc026a1",
   "metadata": {},
   "outputs": [
    {
     "data": {
      "text/plain": [
       "PASSENGER CAR                                                121751\n",
       "(SPORT) UTILITY VEHICLE                                       15991\n",
       "PICKUP TRUCK                                                   6786\n",
       "VAN                                                            4957\n",
       "TRANSIT BUS                                                    3642\n",
       "SCHOOL BUS                                                     2975\n",
       "POLICE VEHICLE/NON EMERGENCY                                   2116\n",
       "OTHER LIGHT TRUCKS (10,000LBS (4,536KG) OR LESS)               1909\n",
       "CARGO VAN/LIGHT TRUCK 2 AXLES (OVER 10,000LBS (4,536 KG))      1858\n",
       "OTHER                                                          1539\n",
       "POLICE VEHICLE/EMERGENCY                                       1498\n",
       "MEDIUM/HEAVY TRUCKS 3 AXLES (OVER 10,000LBS (4,536KG))         1469\n",
       "UNKNOWN                                                        1061\n",
       "MOTORCYCLE                                                      889\n",
       "STATION WAGON                                                   692\n",
       "TRUCK TRACTOR                                                   500\n",
       "AMBULANCE/EMERGENCY                                             466\n",
       "FIRE VEHICLE/EMERGENCY                                          438\n",
       "OTHER BUS                                                       418\n",
       "FIRE VEHICLE/NON EMERGENCY                                      296\n",
       "RECREATIONAL VEHICLE                                            197\n",
       "AMBULANCE/NON EMERGENCY                                         185\n",
       "SNOWMOBILE                                                      123\n",
       "ALL TERRAIN VEHICLE (ATV)                                       119\n",
       "MOPED                                                            87\n",
       "AUTOCYCLE                                                        41\n",
       "LOW SPEED VEHICLE                                                34\n",
       "CROSS COUNTRY BUS                                                31\n",
       "FARM VEHICLE                                                     21\n",
       "LIMOUSINE                                                        16\n",
       "Name: Vehicle Body Type, dtype: int64"
      ]
     },
     "execution_count": 55,
     "metadata": {},
     "output_type": "execute_result"
    }
   ],
   "source": [
    "crash1['Vehicle Body Type'].value_counts()"
   ]
  },
  {
   "cell_type": "code",
   "execution_count": 56,
   "id": "68c2bac4",
   "metadata": {},
   "outputs": [],
   "source": [
    "mapping_body = {\n",
    "    'PASSENGER CAR': 'Car',\n",
    "    '(SPORT) UTILITY VEHICLE': 'SUV',\n",
    "    'PICKUP TRUCK': 'Pickup Truck',\n",
    "    'VAN': 'Van',\n",
    "    'TRANSIT BUS': 'Bus',\n",
    "    'SCHOOL BUS': 'Bus',\n",
    "    'POLICE VEHICLE/NON EMERGENCY': 'Non-Emergency SV',\n",
    "    'OTHER LIGHT TRUCKS (10,000LBS (4,536KG) OR LESS)': 'Light Truck',\n",
    "    'CARGO VAN/LIGHT TRUCK 2 AXLES (OVER 10,000LBS (4,536 KG))': 'Light Truck',\n",
    "    'OTHER': 'Other',\n",
    "    'POLICE VEHICLE/EMERGENCY': 'Emergency',\n",
    "    'MEDIUM/HEAVY TRUCKS 3 AXLES (OVER 10,000LBS (4,536KG))': 'Heavy Truck',\n",
    "    'UNKNOWN': 'Other',\n",
    "    'MOTORCYCLE': 'Motorbike',\n",
    "    'STATION WAGON': 'Car',\n",
    "    'TRUCK TRACTOR': 'Farm',\n",
    "    'AMBULANCE/EMERGENCY': 'Emergency',\n",
    "    'FIRE VEHICLE/EMERGENCY': 'Emergency',\n",
    "    'OTHER BUS': 'Bus',\n",
    "    'FIRE VEHICLE/NON EMERGENCY': 'Non-Emergency SV',\n",
    "    'RECREATIONAL VEHICLE': 'RV',\n",
    "    'AMBULANCE/NON EMERGENCY': 'Emergency',\n",
    "    'SNOWMOBILE': 'Other',\n",
    "    'ALL TERRAIN VEHICLE (ATV)': 'Other',\n",
    "    'MOPED': 'Motorbike',\n",
    "    'AUTOCYCLE': 'Motorbike',\n",
    "    'LOW SPEED VEHICLE': 'Other',\n",
    "    'CROSS COUNTRY BUS': 'Bus',\n",
    "    'FARM VEHICLE': 'Farm',\n",
    "    'LIMOUSINE': 'Car'\n",
    "    \n",
    "    \n",
    "}\n",
    "\n",
    "crash1['Body'] = crash1['Vehicle Body Type'].map(mapping_body)"
   ]
  },
  {
   "cell_type": "code",
   "execution_count": 57,
   "id": "4adb4838",
   "metadata": {},
   "outputs": [
    {
     "data": {
      "text/plain": [
       "Car                 122459\n",
       "SUV                  15991\n",
       "Bus                   7066\n",
       "Pickup Truck          6786\n",
       "Van                   4957\n",
       "Light Truck           3767\n",
       "Other                 2876\n",
       "Emergency             2587\n",
       "Non-Emergency SV      2412\n",
       "Heavy Truck           1469\n",
       "Motorbike             1017\n",
       "Farm                   521\n",
       "RV                     197\n",
       "Name: Body, dtype: int64"
      ]
     },
     "execution_count": 57,
     "metadata": {},
     "output_type": "execute_result"
    }
   ],
   "source": [
    "crash1['Body'].value_counts()"
   ]
  },
  {
   "cell_type": "code",
   "execution_count": 58,
   "id": "8e8970b3",
   "metadata": {},
   "outputs": [
    {
     "data": {
      "text/plain": [
       "No         171367\n",
       "Unknown       738\n",
       "Name: Driverless Vehicle, dtype: int64"
      ]
     },
     "execution_count": 58,
     "metadata": {},
     "output_type": "execute_result"
    }
   ],
   "source": [
    "crash1['Driverless Vehicle'].value_counts()"
   ]
  },
  {
   "cell_type": "code",
   "execution_count": 59,
   "id": "3c0f9b32",
   "metadata": {},
   "outputs": [
    {
     "data": {
      "text/plain": [
       "No         171367\n",
       "Unknown       738\n",
       "Name: Driverless Vehicle, dtype: int64"
      ]
     },
     "execution_count": 59,
     "metadata": {},
     "output_type": "execute_result"
    }
   ],
   "source": [
    "crash1['Driverless Vehicle'].value_counts()"
   ]
  },
  {
   "cell_type": "code",
   "execution_count": 60,
   "id": "21dd310e",
   "metadata": {},
   "outputs": [
    {
     "name": "stdout",
     "output_type": "stream",
     "text": [
      "<class 'pandas.core.frame.DataFrame'>\n",
      "RangeIndex: 172105 entries, 0 to 172104\n",
      "Data columns (total 34 columns):\n",
      " #   Column                          Non-Null Count   Dtype  \n",
      "---  ------                          --------------   -----  \n",
      " 0   Report Number                   172105 non-null  object \n",
      " 1   ACRS Report Type                172105 non-null  object \n",
      " 2   Crash Date/Time                 172105 non-null  object \n",
      " 3   Cross-Street Type               172105 non-null  object \n",
      " 4   Collision Type                  172105 non-null  object \n",
      " 5   Surface Condition               172105 non-null  object \n",
      " 6   Light                           172105 non-null  object \n",
      " 7   Traffic Control                 172105 non-null  object \n",
      " 8   Driver Substance Abuse          172105 non-null  object \n",
      " 9   Driver At Fault                 172105 non-null  object \n",
      " 10  Injury Severity                 172105 non-null  object \n",
      " 11  Driver Distracted By            172105 non-null  object \n",
      " 12  Vehicle First Impact Location   172105 non-null  object \n",
      " 13  Vehicle Second Impact Location  172105 non-null  object \n",
      " 14  Vehicle Body Type               172105 non-null  object \n",
      " 15  Vehicle Movement                172105 non-null  object \n",
      " 16  Speed Limit                     172105 non-null  int64  \n",
      " 17  Driverless Vehicle              172105 non-null  object \n",
      " 18  Parked Vehicle                  172105 non-null  object \n",
      " 19  Vehicle Year                    172105 non-null  int64  \n",
      " 20  Vehicle Make                    172105 non-null  object \n",
      " 21  Vehicle Model                   172105 non-null  object \n",
      " 22  Equipment Problems              172105 non-null  object \n",
      " 23  Latitude                        172105 non-null  float64\n",
      " 24  Longitude                       172105 non-null  float64\n",
      " 25  Location                        172105 non-null  object \n",
      " 26  Collision                       172105 non-null  object \n",
      " 27  Turn                            172105 non-null  object \n",
      " 28  Light Conditions                172105 non-null  object \n",
      " 29  Substance                       172105 non-null  object \n",
      " 30  Distraction                     172105 non-null  object \n",
      " 31  Conditions                      172105 non-null  object \n",
      " 32  Movement                        172105 non-null  object \n",
      " 33  Body                            172105 non-null  object \n",
      "dtypes: float64(2), int64(2), object(30)\n",
      "memory usage: 44.6+ MB\n"
     ]
    }
   ],
   "source": [
    "crash1.info()"
   ]
  },
  {
   "cell_type": "code",
   "execution_count": 61,
   "id": "b89e25a9",
   "metadata": {},
   "outputs": [
    {
     "data": {
      "text/plain": [
       "NO CONTROLS                94095\n",
       "TRAFFIC SIGNAL             58892\n",
       "STOP SIGN                  12488\n",
       "FLASHING TRAFFIC SIGNAL     2132\n",
       "OTHER                       1991\n",
       "YIELD SIGN                  1727\n",
       "UNKNOWN                      284\n",
       "PERSON                       282\n",
       "WARNING SIGN                 154\n",
       "RAILWAY CROSSING DEVICE       44\n",
       "SCHOOL ZONE SIGN DEVICE       16\n",
       "Name: Traffic Control, dtype: int64"
      ]
     },
     "execution_count": 61,
     "metadata": {},
     "output_type": "execute_result"
    }
   ],
   "source": [
    "crash1['Traffic Control'].value_counts()"
   ]
  },
  {
   "cell_type": "code",
   "execution_count": 62,
   "id": "5c3a6f2d",
   "metadata": {},
   "outputs": [],
   "source": [
    "mapping_signs = {\n",
    "    'NO CONTROLS': 'No controls', \n",
    "    'TRAFFIC SIGNAL': 'Traffic Signal/Lights', \n",
    "    'STOP SIGN': 'Stop Sign', \n",
    "    'FLASHING TRAFFIC SIGNAL': 'Traffic Signal/Lights', \n",
    "    'OTHER': 'Other', \n",
    "    'YIELD SIGN': 'Stop Sign', \n",
    "    'UNKNOWN': 'Other', \n",
    "    'PERSON': 'Person', \n",
    "    'WARNING SIGN': 'Warning Sign', \n",
    "    'RAILWAY CROSSING DEVICE': 'Traffic Signal/Lights', \n",
    "    'SCHOOL ZONE SIGN DEVICE': 'Traffic Signal/Lights'\n",
    "       \n",
    "}\n",
    "\n",
    "crash1['Traffic Signs'] = crash1['Traffic Control'].map(mapping_signs)"
   ]
  },
  {
   "cell_type": "code",
   "execution_count": 63,
   "id": "57448697",
   "metadata": {},
   "outputs": [
    {
     "data": {
      "text/plain": [
       "No controls              94095\n",
       "Traffic Signal/Lights    61084\n",
       "Stop Sign                14215\n",
       "Other                     2275\n",
       "Person                     282\n",
       "Warning Sign               154\n",
       "Name: Traffic Signs, dtype: int64"
      ]
     },
     "execution_count": 63,
     "metadata": {},
     "output_type": "execute_result"
    }
   ],
   "source": [
    "crash1['Traffic Signs'].value_counts()"
   ]
  },
  {
   "cell_type": "code",
   "execution_count": 64,
   "id": "c6c31f54",
   "metadata": {},
   "outputs": [
    {
     "data": {
      "text/html": [
       "<div>\n",
       "<style scoped>\n",
       "    .dataframe tbody tr th:only-of-type {\n",
       "        vertical-align: middle;\n",
       "    }\n",
       "\n",
       "    .dataframe tbody tr th {\n",
       "        vertical-align: top;\n",
       "    }\n",
       "\n",
       "    .dataframe thead th {\n",
       "        text-align: right;\n",
       "    }\n",
       "</style>\n",
       "<table border=\"1\" class=\"dataframe\">\n",
       "  <thead>\n",
       "    <tr style=\"text-align: right;\">\n",
       "      <th></th>\n",
       "      <th>Vehicle First Impact Location</th>\n",
       "      <th>First Impact</th>\n",
       "    </tr>\n",
       "  </thead>\n",
       "  <tbody>\n",
       "    <tr>\n",
       "      <th>0</th>\n",
       "      <td>SEVEN OCLOCK</td>\n",
       "      <td>Rear</td>\n",
       "    </tr>\n",
       "    <tr>\n",
       "      <th>1</th>\n",
       "      <td>NINE OCLOCK</td>\n",
       "      <td>Left</td>\n",
       "    </tr>\n",
       "    <tr>\n",
       "      <th>2</th>\n",
       "      <td>TEN OCLOCK</td>\n",
       "      <td>Left</td>\n",
       "    </tr>\n",
       "    <tr>\n",
       "      <th>3</th>\n",
       "      <td>ELEVEN OCLOCK</td>\n",
       "      <td>Front</td>\n",
       "    </tr>\n",
       "    <tr>\n",
       "      <th>4</th>\n",
       "      <td>TWELVE OCLOCK</td>\n",
       "      <td>Front</td>\n",
       "    </tr>\n",
       "  </tbody>\n",
       "</table>\n",
       "</div>"
      ],
      "text/plain": [
       "  Vehicle First Impact Location First Impact\n",
       "0                  SEVEN OCLOCK         Rear\n",
       "1                   NINE OCLOCK         Left\n",
       "2                    TEN OCLOCK         Left\n",
       "3                 ELEVEN OCLOCK        Front\n",
       "4                 TWELVE OCLOCK        Front"
      ]
     },
     "execution_count": 64,
     "metadata": {},
     "output_type": "execute_result"
    }
   ],
   "source": [
    "impact_mapping = {\n",
    "    'ONE OCLOCK': 'Front',\n",
    "    'TWO OCLOCK': 'Right',\n",
    "    'THREE OCLOCK': 'Right',\n",
    "    'FOUR OCLOCK': 'Right',\n",
    "    'FIVE OCLOCK': 'Rear',\n",
    "    'SIX OCLOCK': 'Rear',\n",
    "    'SEVEN OCLOCK': 'Rear',\n",
    "    'EIGHT OCLOCK': 'Left',\n",
    "    'NINE OCLOCK': 'Left',\n",
    "    'TEN OCLOCK': 'Left',\n",
    "    'ELEVEN OCLOCK': 'Front',\n",
    "    'TWELVE OCLOCK': 'Front',\n",
    "    'UNKNOWN': 'Unknown',\n",
    "    'UNDERSIDE': 'Other',\n",
    "    'NON-COLLISION': 'Other',\n",
    "    'ROOF TOP': 'Other'\n",
    "}\n",
    "\n",
    "crash1['First Impact'] = crash1['Vehicle First Impact Location'].map(impact_mapping)\n",
    "\n",
    "crash1[['Vehicle First Impact Location', 'First Impact']].head()"
   ]
  },
  {
   "cell_type": "code",
   "execution_count": 65,
   "id": "0f41b4e6",
   "metadata": {},
   "outputs": [
    {
     "data": {
      "text/html": [
       "<div>\n",
       "<style scoped>\n",
       "    .dataframe tbody tr th:only-of-type {\n",
       "        vertical-align: middle;\n",
       "    }\n",
       "\n",
       "    .dataframe tbody tr th {\n",
       "        vertical-align: top;\n",
       "    }\n",
       "\n",
       "    .dataframe thead th {\n",
       "        text-align: right;\n",
       "    }\n",
       "</style>\n",
       "<table border=\"1\" class=\"dataframe\">\n",
       "  <thead>\n",
       "    <tr style=\"text-align: right;\">\n",
       "      <th></th>\n",
       "      <th>Vehicle Second Impact Location</th>\n",
       "      <th>Second Impact</th>\n",
       "    </tr>\n",
       "  </thead>\n",
       "  <tbody>\n",
       "    <tr>\n",
       "      <th>0</th>\n",
       "      <td>SEVEN OCLOCK</td>\n",
       "      <td>Rear</td>\n",
       "    </tr>\n",
       "    <tr>\n",
       "      <th>1</th>\n",
       "      <td>NINE OCLOCK</td>\n",
       "      <td>Left</td>\n",
       "    </tr>\n",
       "    <tr>\n",
       "      <th>2</th>\n",
       "      <td>TEN OCLOCK</td>\n",
       "      <td>Left</td>\n",
       "    </tr>\n",
       "    <tr>\n",
       "      <th>3</th>\n",
       "      <td>ELEVEN OCLOCK</td>\n",
       "      <td>Front</td>\n",
       "    </tr>\n",
       "    <tr>\n",
       "      <th>4</th>\n",
       "      <td>TWELVE OCLOCK</td>\n",
       "      <td>Front</td>\n",
       "    </tr>\n",
       "  </tbody>\n",
       "</table>\n",
       "</div>"
      ],
      "text/plain": [
       "  Vehicle Second Impact Location Second Impact\n",
       "0                   SEVEN OCLOCK          Rear\n",
       "1                    NINE OCLOCK          Left\n",
       "2                     TEN OCLOCK          Left\n",
       "3                  ELEVEN OCLOCK         Front\n",
       "4                  TWELVE OCLOCK         Front"
      ]
     },
     "execution_count": 65,
     "metadata": {},
     "output_type": "execute_result"
    }
   ],
   "source": [
    "crash1['Second Impact'] = crash1['Vehicle Second Impact Location'].map(impact_mapping)\n",
    "\n",
    "crash1[['Vehicle Second Impact Location', 'Second Impact']].head()"
   ]
  },
  {
   "cell_type": "code",
   "execution_count": 66,
   "id": "66d55fb8",
   "metadata": {},
   "outputs": [],
   "source": [
    "columns_to_drop_v3 = [\n",
    "   'Equipment Problems', 'Collision Type', 'Light', 'Driver Substance Abuse', 'Driver Distracted By', \n",
    "    'Surface Condition', 'Vehicle Movement', 'Vehicle Make', 'Vehicle Model', 'Driverless Vehicle', \n",
    "    'Vehicle Body Type', 'Traffic Control', 'Vehicle First Impact Location', 'Vehicle Second Impact Location'\n",
    "\n",
    "]\n",
    "crash1.drop(columns=columns_to_drop_v3, inplace=True)"
   ]
  },
  {
   "cell_type": "code",
   "execution_count": 67,
   "id": "893dd0f6",
   "metadata": {},
   "outputs": [],
   "source": [
    "crash1.to_csv('Crash_v1.csv', index=False)"
   ]
  }
 ],
 "metadata": {
  "kernelspec": {
   "display_name": "Python 3 (ipykernel)",
   "language": "python",
   "name": "python3"
  },
  "language_info": {
   "codemirror_mode": {
    "name": "ipython",
    "version": 3
   },
   "file_extension": ".py",
   "mimetype": "text/x-python",
   "name": "python",
   "nbconvert_exporter": "python",
   "pygments_lexer": "ipython3",
   "version": "3.9.13"
  }
 },
 "nbformat": 4,
 "nbformat_minor": 5
}
