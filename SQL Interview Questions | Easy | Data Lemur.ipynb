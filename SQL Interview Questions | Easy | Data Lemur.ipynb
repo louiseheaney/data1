{
 "cells": [
  {
   "cell_type": "markdown",
   "id": "4858142d",
   "metadata": {},
   "source": [
    "### Page With No Likes [Facebook SQL Interview Question]\n",
    "\n",
    "Assume you're given two tables containing data about Facebook Pages and their respective likes (as in \"Like a Facebook Page\").\n",
    "\n",
    "Write a query to return the IDs of the Facebook pages that have zero likes. \n",
    "The output should be sorted in ascending order based on the page IDs."
   ]
  },
  {
   "cell_type": "code",
   "execution_count": null,
   "id": "5fdbcd76",
   "metadata": {},
   "outputs": [],
   "source": [
    "SELECT page_id\n",
    "FROM pages\n",
    "WHERE page_id NOT IN (\n",
    "  SELECT page_id\n",
    "  FROM page_likes\n",
    ");"
   ]
  },
  {
   "cell_type": "markdown",
   "id": "9c8db82a",
   "metadata": {},
   "source": [
    "### Unfinished Parts [Tesla SQL Interview Question]\n",
    "\n",
    "Tesla is investigating production bottlenecks and they need your help to extract the relevant data. Write a query to determine which parts have begun the assembly process but are not yet finished.\n",
    "\n",
    "Assumptions:\n",
    "\n",
    "parts_assembly table contains all parts currently in production, each at varying stages of the assembly process.\n",
    "An unfinished part is one that lacks a finish_date.\n",
    "This question is straightforward, so let's approach it with simplicity in both thinking and solution."
   ]
  },
  {
   "cell_type": "code",
   "execution_count": null,
   "id": "793b772b",
   "metadata": {},
   "outputs": [],
   "source": [
    "SELECT part, \n",
    "    assembly_step\n",
    "FROM parts_assembly\n",
    "WHERE finish_date IS NULL;"
   ]
  },
  {
   "cell_type": "markdown",
   "id": "36a561a7",
   "metadata": {},
   "source": [
    "### Histogram of Tweets [Twitter SQL Interview Question]\n",
    "\n",
    "Assume you're given a table Twitter tweet data, write a query to obtain a histogram of tweets posted per user in 2022. Output the tweet count per user as the bucket and the number of Twitter users who fall into that bucket.\n",
    "\n",
    "In other words, group the users by the number of tweets they posted in 2022 and count the number of users in each group."
   ]
  },
  {
   "cell_type": "code",
   "execution_count": null,
   "id": "3c7ff74b",
   "metadata": {},
   "outputs": [],
   "source": [
    "with cte as(\n",
    "  SELECT user_id, \n",
    "    COUNT(*) as tweet_bucket \n",
    "  FROM tweets\n",
    "  WHERE tweet_date BETWEEN '2022-01-01' AND '2022-12-31'\n",
    "  GROUP BY user_id)\n",
    "\n",
    "SELECT tweet_bucket, \n",
    "  COUNT(*) as users_num from cte \n",
    "GROUP BY tweet_bucket;"
   ]
  },
  {
   "cell_type": "markdown",
   "id": "25f8c499",
   "metadata": {},
   "source": [
    "### Laptop vs. Mobile Viewership [New York Times SQL Interview Question]\n",
    "\n",
    "Assume you're given the table on user viewership categorised by device type where the three types are laptop, tablet, and phone.\n",
    "\n",
    "Write a query that calculates the total viewership for laptops and mobile devices where mobile is defined as the sum of tablet and phone viewership. Output the total viewership for laptops as laptop_reviews and the total viewership for mobile devices as mobile_views."
   ]
  },
  {
   "cell_type": "code",
   "execution_count": null,
   "id": "b3c684f4",
   "metadata": {},
   "outputs": [],
   "source": [
    "SELECT \n",
    "  SUM(CASE WHEN device_type = 'laptop' THEN 1 ELSE 0 END) AS laptop_views, \n",
    "  SUM(CASE WHEN device_type IN ('tablet', 'phone') THEN 1 ELSE 0 END) AS mobile_views \n",
    "FROM viewership;"
   ]
  },
  {
   "cell_type": "markdown",
   "id": "74844adf",
   "metadata": {},
   "source": [
    "### Data Science Skills [LinkedIn SQL Interview Question]\n",
    "\n",
    "Given a table of candidates and their skills, you're tasked with finding the candidates best suited for an open Data Science job. You want to find candidates who are proficient in Python, Tableau, and PostgreSQL.\n",
    "\n",
    "Write a query to list the candidates who possess all of the required skills for the job. Sort the output by candidate ID in ascending order."
   ]
  },
  {
   "cell_type": "code",
   "execution_count": null,
   "id": "dcda7e2a",
   "metadata": {},
   "outputs": [],
   "source": [
    "SELECT candidate_id\n",
    "FROM candidates \n",
    "WHERE skill IN (Python, Tableau, PostgreSQL)\n",
    "GROUP BY candidate_id\n",
    "HAVING COUNT(skill) = 3\n",
    "ORDER BY candidate_id;"
   ]
  }
 ],
 "metadata": {
  "kernelspec": {
   "display_name": "Python 3 (ipykernel)",
   "language": "python",
   "name": "python3"
  },
  "language_info": {
   "codemirror_mode": {
    "name": "ipython",
    "version": 3
   },
   "file_extension": ".py",
   "mimetype": "text/x-python",
   "name": "python",
   "nbconvert_exporter": "python",
   "pygments_lexer": "ipython3",
   "version": "3.9.13"
  }
 },
 "nbformat": 4,
 "nbformat_minor": 5
}
