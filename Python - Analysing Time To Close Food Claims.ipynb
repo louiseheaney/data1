{
 "cells": [
  {
   "cell_type": "markdown",
   "id": "a367b2db",
   "metadata": {},
   "source": [
    "\n",
    "\n",
    "# Analysing Time To Close Food Claims\n",
    "\n",
    "## Background\n",
    "\n",
    "Vivendo is a fast food chain in Brazil with over 200 outlets<br>\n",
    "Customers often claim compensation from the company for food poisoning<br>\n",
    "The legal team processes these claims. The legal team has offices in four locations<br>\n",
    "The legal team wants to improve how long it takes to reply to customers and close claims<br>\n",
    "The head of the legal department wants a report on how each location differs in the time it takes to close claims<br>"
   ]
  },
  {
   "cell_type": "markdown",
   "id": "6fec5565",
   "metadata": {},
   "source": [
    "## Task 1: Data Cleaning\n"
   ]
  },
  {
   "cell_type": "code",
   "execution_count": 2,
   "id": "c58fcd53",
   "metadata": {
    "scrolled": true
   },
   "outputs": [
    {
     "data": {
      "text/html": [
       "<div>\n",
       "<style scoped>\n",
       "    .dataframe tbody tr th:only-of-type {\n",
       "        vertical-align: middle;\n",
       "    }\n",
       "\n",
       "    .dataframe tbody tr th {\n",
       "        vertical-align: top;\n",
       "    }\n",
       "\n",
       "    .dataframe thead th {\n",
       "        text-align: right;\n",
       "    }\n",
       "</style>\n",
       "<table border=\"1\" class=\"dataframe\">\n",
       "  <thead>\n",
       "    <tr style=\"text-align: right;\">\n",
       "      <th></th>\n",
       "      <th>time_to_close</th>\n",
       "      <th>claim_amount</th>\n",
       "      <th>amount_paid</th>\n",
       "      <th>location</th>\n",
       "      <th>individuals_on_claim</th>\n",
       "      <th>linked_cases</th>\n",
       "      <th>cause</th>\n",
       "    </tr>\n",
       "    <tr>\n",
       "      <th>claim_id</th>\n",
       "      <th></th>\n",
       "      <th></th>\n",
       "      <th></th>\n",
       "      <th></th>\n",
       "      <th></th>\n",
       "      <th></th>\n",
       "      <th></th>\n",
       "    </tr>\n",
       "  </thead>\n",
       "  <tbody>\n",
       "    <tr>\n",
       "      <th>1</th>\n",
       "      <td>317</td>\n",
       "      <td>R$ 74474.55</td>\n",
       "      <td>51231.37</td>\n",
       "      <td>RECIFE</td>\n",
       "      <td>15</td>\n",
       "      <td>False</td>\n",
       "      <td>unknown</td>\n",
       "    </tr>\n",
       "    <tr>\n",
       "      <th>2</th>\n",
       "      <td>195</td>\n",
       "      <td>R$ 52137.83</td>\n",
       "      <td>42111.30</td>\n",
       "      <td>FORTALEZA</td>\n",
       "      <td>12</td>\n",
       "      <td>True</td>\n",
       "      <td>unknown</td>\n",
       "    </tr>\n",
       "    <tr>\n",
       "      <th>3</th>\n",
       "      <td>183</td>\n",
       "      <td>R$ 24447.2</td>\n",
       "      <td>23986.30</td>\n",
       "      <td>SAO LUIS</td>\n",
       "      <td>10</td>\n",
       "      <td>True</td>\n",
       "      <td>meat</td>\n",
       "    </tr>\n",
       "    <tr>\n",
       "      <th>4</th>\n",
       "      <td>186</td>\n",
       "      <td>R$ 29006.28</td>\n",
       "      <td>27942.72</td>\n",
       "      <td>FORTALEZA</td>\n",
       "      <td>11</td>\n",
       "      <td>False</td>\n",
       "      <td>meat</td>\n",
       "    </tr>\n",
       "    <tr>\n",
       "      <th>5</th>\n",
       "      <td>138</td>\n",
       "      <td>R$ 19520.6</td>\n",
       "      <td>16251.06</td>\n",
       "      <td>RECIFE</td>\n",
       "      <td>11</td>\n",
       "      <td>False</td>\n",
       "      <td>vegetable</td>\n",
       "    </tr>\n",
       "  </tbody>\n",
       "</table>\n",
       "</div>"
      ],
      "text/plain": [
       "          time_to_close claim_amount  amount_paid   location  \\\n",
       "claim_id                                                       \n",
       "1                   317  R$ 74474.55     51231.37     RECIFE   \n",
       "2                   195  R$ 52137.83     42111.30  FORTALEZA   \n",
       "3                   183   R$ 24447.2     23986.30   SAO LUIS   \n",
       "4                   186  R$ 29006.28     27942.72  FORTALEZA   \n",
       "5                   138   R$ 19520.6     16251.06     RECIFE   \n",
       "\n",
       "          individuals_on_claim linked_cases      cause  \n",
       "claim_id                                                \n",
       "1                           15        False    unknown  \n",
       "2                           12         True    unknown  \n",
       "3                           10         True       meat  \n",
       "4                           11        False       meat  \n",
       "5                           11        False  vegetable  "
      ]
     },
     "execution_count": 2,
     "metadata": {},
     "output_type": "execute_result"
    }
   ],
   "source": [
    "import pandas as pd\n",
    "food = pd.read_csv(\"Files/food_claims_2212.csv\", index_col=\"claim_id\")\n",
    "food.head()"
   ]
  },
  {
   "cell_type": "code",
   "execution_count": 5,
   "id": "45b43ba6",
   "metadata": {
    "scrolled": true
   },
   "outputs": [
    {
     "data": {
      "text/html": [
       "<div>\n",
       "<style scoped>\n",
       "    .dataframe tbody tr th:only-of-type {\n",
       "        vertical-align: middle;\n",
       "    }\n",
       "\n",
       "    .dataframe tbody tr th {\n",
       "        vertical-align: top;\n",
       "    }\n",
       "\n",
       "    .dataframe thead th {\n",
       "        text-align: right;\n",
       "    }\n",
       "</style>\n",
       "<table border=\"1\" class=\"dataframe\">\n",
       "  <thead>\n",
       "    <tr style=\"text-align: right;\">\n",
       "      <th></th>\n",
       "      <th>time_to_close</th>\n",
       "      <th>claim_amount</th>\n",
       "      <th>amount_paid</th>\n",
       "      <th>location</th>\n",
       "      <th>individuals_on_claim</th>\n",
       "      <th>linked_cases</th>\n",
       "      <th>cause</th>\n",
       "    </tr>\n",
       "    <tr>\n",
       "      <th>claim_id</th>\n",
       "      <th></th>\n",
       "      <th></th>\n",
       "      <th></th>\n",
       "      <th></th>\n",
       "      <th></th>\n",
       "      <th></th>\n",
       "      <th></th>\n",
       "    </tr>\n",
       "  </thead>\n",
       "  <tbody>\n",
       "    <tr>\n",
       "      <th>1</th>\n",
       "      <td>317</td>\n",
       "      <td>R$ 74474.55</td>\n",
       "      <td>51231.37</td>\n",
       "      <td>RECIFE</td>\n",
       "      <td>15</td>\n",
       "      <td>False</td>\n",
       "      <td>unknown</td>\n",
       "    </tr>\n",
       "    <tr>\n",
       "      <th>2</th>\n",
       "      <td>195</td>\n",
       "      <td>R$ 52137.83</td>\n",
       "      <td>42111.30</td>\n",
       "      <td>FORTALEZA</td>\n",
       "      <td>12</td>\n",
       "      <td>True</td>\n",
       "      <td>unknown</td>\n",
       "    </tr>\n",
       "    <tr>\n",
       "      <th>3</th>\n",
       "      <td>183</td>\n",
       "      <td>R$ 24447.2</td>\n",
       "      <td>23986.30</td>\n",
       "      <td>SAO LUIS</td>\n",
       "      <td>10</td>\n",
       "      <td>True</td>\n",
       "      <td>meat</td>\n",
       "    </tr>\n",
       "    <tr>\n",
       "      <th>4</th>\n",
       "      <td>186</td>\n",
       "      <td>R$ 29006.28</td>\n",
       "      <td>27942.72</td>\n",
       "      <td>FORTALEZA</td>\n",
       "      <td>11</td>\n",
       "      <td>False</td>\n",
       "      <td>meat</td>\n",
       "    </tr>\n",
       "    <tr>\n",
       "      <th>5</th>\n",
       "      <td>138</td>\n",
       "      <td>R$ 19520.6</td>\n",
       "      <td>16251.06</td>\n",
       "      <td>RECIFE</td>\n",
       "      <td>11</td>\n",
       "      <td>False</td>\n",
       "      <td>vegetable</td>\n",
       "    </tr>\n",
       "  </tbody>\n",
       "</table>\n",
       "</div>"
      ],
      "text/plain": [
       "          time_to_close claim_amount  amount_paid   location  \\\n",
       "claim_id                                                       \n",
       "1                   317  R$ 74474.55     51231.37     RECIFE   \n",
       "2                   195  R$ 52137.83     42111.30  FORTALEZA   \n",
       "3                   183   R$ 24447.2     23986.30   SAO LUIS   \n",
       "4                   186  R$ 29006.28     27942.72  FORTALEZA   \n",
       "5                   138   R$ 19520.6     16251.06     RECIFE   \n",
       "\n",
       "          individuals_on_claim linked_cases      cause  \n",
       "claim_id                                                \n",
       "1                           15        False    unknown  \n",
       "2                           12         True    unknown  \n",
       "3                           10         True       meat  \n",
       "4                           11        False       meat  \n",
       "5                           11        False  vegetable  "
      ]
     },
     "execution_count": 5,
     "metadata": {},
     "output_type": "execute_result"
    }
   ],
   "source": [
    "# To get an overview of the values I also returned the following summaries:\n",
    "\n",
    "food.head()"
   ]
  },
  {
   "cell_type": "code",
   "execution_count": 8,
   "id": "0363f5bc",
   "metadata": {},
   "outputs": [
    {
     "name": "stdout",
     "output_type": "stream",
     "text": [
      "<class 'pandas.core.frame.DataFrame'>\n",
      "Int64Index: 2000 entries, 1 to 2000\n",
      "Data columns (total 7 columns):\n",
      " #   Column                Non-Null Count  Dtype  \n",
      "---  ------                --------------  -----  \n",
      " 0   time_to_close         2000 non-null   int64  \n",
      " 1   claim_amount          2000 non-null   object \n",
      " 2   amount_paid           1964 non-null   float64\n",
      " 3   location              2000 non-null   object \n",
      " 4   individuals_on_claim  2000 non-null   int64  \n",
      " 5   linked_cases          1974 non-null   object \n",
      " 6   cause                 2000 non-null   object \n",
      "dtypes: float64(1), int64(2), object(4)\n",
      "memory usage: 125.0+ KB\n"
     ]
    }
   ],
   "source": [
    "# To find missing data:\n",
    "\n",
    "food.info()"
   ]
  },
  {
   "cell_type": "code",
   "execution_count": 11,
   "id": "4b8cc8e1",
   "metadata": {},
   "outputs": [
    {
     "data": {
      "text/html": [
       "<div>\n",
       "<style scoped>\n",
       "    .dataframe tbody tr th:only-of-type {\n",
       "        vertical-align: middle;\n",
       "    }\n",
       "\n",
       "    .dataframe tbody tr th {\n",
       "        vertical-align: top;\n",
       "    }\n",
       "\n",
       "    .dataframe thead th {\n",
       "        text-align: right;\n",
       "    }\n",
       "</style>\n",
       "<table border=\"1\" class=\"dataframe\">\n",
       "  <thead>\n",
       "    <tr style=\"text-align: right;\">\n",
       "      <th></th>\n",
       "      <th>time_to_close</th>\n",
       "      <th>amount_paid</th>\n",
       "      <th>individuals_on_claim</th>\n",
       "    </tr>\n",
       "  </thead>\n",
       "  <tbody>\n",
       "    <tr>\n",
       "      <th>count</th>\n",
       "      <td>2000.00000</td>\n",
       "      <td>1964.000000</td>\n",
       "      <td>2000.000000</td>\n",
       "    </tr>\n",
       "    <tr>\n",
       "      <th>mean</th>\n",
       "      <td>185.56800</td>\n",
       "      <td>21541.975183</td>\n",
       "      <td>8.049500</td>\n",
       "    </tr>\n",
       "    <tr>\n",
       "      <th>std</th>\n",
       "      <td>49.16339</td>\n",
       "      <td>12530.156509</td>\n",
       "      <td>4.087347</td>\n",
       "    </tr>\n",
       "    <tr>\n",
       "      <th>min</th>\n",
       "      <td>76.00000</td>\n",
       "      <td>1516.720000</td>\n",
       "      <td>1.000000</td>\n",
       "    </tr>\n",
       "    <tr>\n",
       "      <th>25%</th>\n",
       "      <td>158.00000</td>\n",
       "      <td>10995.950000</td>\n",
       "      <td>4.000000</td>\n",
       "    </tr>\n",
       "    <tr>\n",
       "      <th>50%</th>\n",
       "      <td>179.00000</td>\n",
       "      <td>20105.700000</td>\n",
       "      <td>8.000000</td>\n",
       "    </tr>\n",
       "    <tr>\n",
       "      <th>75%</th>\n",
       "      <td>204.00000</td>\n",
       "      <td>30709.350000</td>\n",
       "      <td>12.000000</td>\n",
       "    </tr>\n",
       "    <tr>\n",
       "      <th>max</th>\n",
       "      <td>518.00000</td>\n",
       "      <td>52498.750000</td>\n",
       "      <td>15.000000</td>\n",
       "    </tr>\n",
       "  </tbody>\n",
       "</table>\n",
       "</div>"
      ],
      "text/plain": [
       "       time_to_close   amount_paid  individuals_on_claim\n",
       "count     2000.00000   1964.000000           2000.000000\n",
       "mean       185.56800  21541.975183              8.049500\n",
       "std         49.16339  12530.156509              4.087347\n",
       "min         76.00000   1516.720000              1.000000\n",
       "25%        158.00000  10995.950000              4.000000\n",
       "50%        179.00000  20105.700000              8.000000\n",
       "75%        204.00000  30709.350000             12.000000\n",
       "max        518.00000  52498.750000             15.000000"
      ]
     },
     "execution_count": 11,
     "metadata": {},
     "output_type": "execute_result"
    }
   ],
   "source": [
    "# Check that all numeric columns are showing up \n",
    "\n",
    "food.describe()\n",
    "\n",
    "# I expected to see \"claim_amount\" here too so we will need to format this column next"
   ]
  },
  {
   "cell_type": "code",
   "execution_count": 13,
   "id": "098766a9",
   "metadata": {},
   "outputs": [
    {
     "data": {
      "text/plain": [
       "claim_id\n",
       "1    74.55\n",
       "2    37.83\n",
       "3     47.2\n",
       "4    06.28\n",
       "5     20.6\n",
       "Name: claim_amount, dtype: object"
      ]
     },
     "execution_count": 13,
     "metadata": {},
     "output_type": "execute_result"
    }
   ],
   "source": [
    "# First, I removed the first 3 characters:\n",
    "\n",
    "food[\"claim_amount\"] = food[\"claim_amount\"].str[3:]\n",
    "food[\"claim_amount\"].head()"
   ]
  },
  {
   "cell_type": "code",
   "execution_count": 16,
   "id": "61910476",
   "metadata": {},
   "outputs": [
    {
     "name": "stdout",
     "output_type": "stream",
     "text": [
      "<class 'pandas.core.frame.DataFrame'>\n",
      "Int64Index: 2000 entries, 1 to 2000\n",
      "Data columns (total 7 columns):\n",
      " #   Column                Non-Null Count  Dtype  \n",
      "---  ------                --------------  -----  \n",
      " 0   time_to_close         2000 non-null   int64  \n",
      " 1   claim_amount          2000 non-null   float64\n",
      " 2   amount_paid           1964 non-null   float64\n",
      " 3   location              2000 non-null   object \n",
      " 4   individuals_on_claim  2000 non-null   int64  \n",
      " 5   linked_cases          1974 non-null   object \n",
      " 6   cause                 2000 non-null   object \n",
      "dtypes: float64(2), int64(2), object(3)\n",
      "memory usage: 125.0+ KB\n"
     ]
    }
   ],
   "source": [
    "# Then I changed the column type:\n",
    "\n",
    "food[\"claim_amount\"] = pd.to_numeric(food[\"claim_amount\"])\n",
    "food.info()"
   ]
  },
  {
   "cell_type": "code",
   "execution_count": 18,
   "id": "ff2df015",
   "metadata": {},
   "outputs": [
    {
     "data": {
      "text/html": [
       "<div>\n",
       "<style scoped>\n",
       "    .dataframe tbody tr th:only-of-type {\n",
       "        vertical-align: middle;\n",
       "    }\n",
       "\n",
       "    .dataframe tbody tr th {\n",
       "        vertical-align: top;\n",
       "    }\n",
       "\n",
       "    .dataframe thead th {\n",
       "        text-align: right;\n",
       "    }\n",
       "</style>\n",
       "<table border=\"1\" class=\"dataframe\">\n",
       "  <thead>\n",
       "    <tr style=\"text-align: right;\">\n",
       "      <th></th>\n",
       "      <th>time_to_close</th>\n",
       "      <th>claim_amount</th>\n",
       "      <th>amount_paid</th>\n",
       "      <th>location</th>\n",
       "      <th>individuals_on_claim</th>\n",
       "      <th>linked_cases</th>\n",
       "      <th>cause</th>\n",
       "    </tr>\n",
       "    <tr>\n",
       "      <th>claim_id</th>\n",
       "      <th></th>\n",
       "      <th></th>\n",
       "      <th></th>\n",
       "      <th></th>\n",
       "      <th></th>\n",
       "      <th></th>\n",
       "      <th></th>\n",
       "    </tr>\n",
       "  </thead>\n",
       "  <tbody>\n",
       "    <tr>\n",
       "      <th>1</th>\n",
       "      <td>317</td>\n",
       "      <td>74.55</td>\n",
       "      <td>51231.37</td>\n",
       "      <td>RECIFE</td>\n",
       "      <td>15</td>\n",
       "      <td>False</td>\n",
       "      <td>unknown</td>\n",
       "    </tr>\n",
       "    <tr>\n",
       "      <th>2</th>\n",
       "      <td>195</td>\n",
       "      <td>37.83</td>\n",
       "      <td>42111.30</td>\n",
       "      <td>FORTALEZA</td>\n",
       "      <td>12</td>\n",
       "      <td>True</td>\n",
       "      <td>unknown</td>\n",
       "    </tr>\n",
       "    <tr>\n",
       "      <th>3</th>\n",
       "      <td>183</td>\n",
       "      <td>47.20</td>\n",
       "      <td>23986.30</td>\n",
       "      <td>SAO LUIS</td>\n",
       "      <td>10</td>\n",
       "      <td>True</td>\n",
       "      <td>meat</td>\n",
       "    </tr>\n",
       "    <tr>\n",
       "      <th>4</th>\n",
       "      <td>186</td>\n",
       "      <td>6.28</td>\n",
       "      <td>27942.72</td>\n",
       "      <td>FORTALEZA</td>\n",
       "      <td>11</td>\n",
       "      <td>False</td>\n",
       "      <td>meat</td>\n",
       "    </tr>\n",
       "    <tr>\n",
       "      <th>5</th>\n",
       "      <td>138</td>\n",
       "      <td>20.60</td>\n",
       "      <td>16251.06</td>\n",
       "      <td>RECIFE</td>\n",
       "      <td>11</td>\n",
       "      <td>False</td>\n",
       "      <td>vegetable</td>\n",
       "    </tr>\n",
       "  </tbody>\n",
       "</table>\n",
       "</div>"
      ],
      "text/plain": [
       "          time_to_close  claim_amount  amount_paid   location  \\\n",
       "claim_id                                                        \n",
       "1                   317         74.55     51231.37     RECIFE   \n",
       "2                   195         37.83     42111.30  FORTALEZA   \n",
       "3                   183         47.20     23986.30   SAO LUIS   \n",
       "4                   186          6.28     27942.72  FORTALEZA   \n",
       "5                   138         20.60     16251.06     RECIFE   \n",
       "\n",
       "          individuals_on_claim linked_cases      cause  \n",
       "claim_id                                                \n",
       "1                           15        False    unknown  \n",
       "2                           12         True    unknown  \n",
       "3                           10         True       meat  \n",
       "4                           11        False       meat  \n",
       "5                           11        False  vegetable  "
      ]
     },
     "execution_count": 18,
     "metadata": {},
     "output_type": "execute_result"
    }
   ],
   "source": [
    "# Finally I rounded the values to 2 decimal places:\n",
    "\n",
    "food[\"claim_amount\"].round(decimals = 2)\n",
    "food[\"amount_paid\"].round(decimals = 2)\n",
    "\n",
    "food.head()"
   ]
  },
  {
   "cell_type": "markdown",
   "id": "47970025",
   "metadata": {},
   "source": [
    "#### a. State whether the values match the description given in the table above."
   ]
  },
  {
   "cell_type": "code",
   "execution_count": 21,
   "id": "d02908c3",
   "metadata": {},
   "outputs": [
    {
     "data": {
      "text/plain": [
       "RECIFE       885\n",
       "SAO LUIS     517\n",
       "FORTALEZA    311\n",
       "NATAL        287\n",
       "Name: location, dtype: int64"
      ]
     },
     "execution_count": 21,
     "metadata": {},
     "output_type": "execute_result"
    }
   ],
   "source": [
    "# Check the \"location\" column has only the 4 locations listed\n",
    "\n",
    "food[\"location\"].value_counts()"
   ]
  },
  {
   "cell_type": "code",
   "execution_count": 23,
   "id": "5f2ea7fa",
   "metadata": {},
   "outputs": [
    {
     "data": {
      "text/plain": [
       "meat          943\n",
       "unknown       713\n",
       "vegetable     314\n",
       "VEGETABLES     16\n",
       " Meat          14\n",
       "Name: cause, dtype: int64"
      ]
     },
     "execution_count": 23,
     "metadata": {},
     "output_type": "execute_result"
    }
   ],
   "source": [
    "# Check the \"cause\" column has only the 3 choices (meat, vegetables, unknown) listed\n",
    "\n",
    "food[\"cause\"].value_counts()"
   ]
  },
  {
   "cell_type": "code",
   "execution_count": 25,
   "id": "f9a4ea3c",
   "metadata": {},
   "outputs": [
    {
     "data": {
      "text/plain": [
       "meat         957\n",
       "unknown      713\n",
       "vegetable    330\n",
       "Name: cause, dtype: int64"
      ]
     },
     "execution_count": 25,
     "metadata": {},
     "output_type": "execute_result"
    }
   ],
   "source": [
    "# What I did to correct the formatting errors in \"cause\":\n",
    "\n",
    "food[\"cause\"] = food[\"cause\"].str.lower()\n",
    "food[\"cause\"] = food[\"cause\"].str.replace(\"vegetables\", \"vegetable\")\n",
    "food[\"cause\"] = food[\"cause\"].str.strip()\n",
    "food[\"cause\"].value_counts()"
   ]
  },
  {
   "cell_type": "markdown",
   "id": "0b98681f",
   "metadata": {},
   "source": [
    "#### b. State the number of missing values in the columns"
   ]
  },
  {
   "cell_type": "code",
   "execution_count": 27,
   "id": "c9a3062e",
   "metadata": {},
   "outputs": [
    {
     "data": {
      "text/plain": [
       "time_to_close            0\n",
       "claim_amount             0\n",
       "amount_paid             36\n",
       "location                 0\n",
       "individuals_on_claim     0\n",
       "linked_cases            26\n",
       "cause                    0\n",
       "dtype: int64"
      ]
     },
     "execution_count": 27,
     "metadata": {},
     "output_type": "execute_result"
    }
   ],
   "source": [
    "food.isna().sum()"
   ]
  },
  {
   "cell_type": "code",
   "execution_count": 31,
   "id": "e1480349",
   "metadata": {},
   "outputs": [
    {
     "name": "stdout",
     "output_type": "stream",
     "text": [
      "<class 'pandas.core.frame.DataFrame'>\n",
      "Int64Index: 2000 entries, 1 to 2000\n",
      "Data columns (total 7 columns):\n",
      " #   Column                Non-Null Count  Dtype  \n",
      "---  ------                --------------  -----  \n",
      " 0   time_to_close         2000 non-null   int64  \n",
      " 1   claim_amount          2000 non-null   float64\n",
      " 2   amount_paid           2000 non-null   float64\n",
      " 3   location              2000 non-null   object \n",
      " 4   individuals_on_claim  2000 non-null   int64  \n",
      " 5   linked_cases          2000 non-null   object \n",
      " 6   cause                 2000 non-null   object \n",
      "dtypes: float64(2), int64(2), object(3)\n",
      "memory usage: 125.0+ KB\n"
     ]
    }
   ],
   "source": [
    "# What I did to correct these null values:\n",
    "\n",
    "food['amount_paid'] = food['amount_paid'].fillna(food['amount_paid'].median())\n",
    "food['linked_cases'] = food['linked_cases'].fillna('False')\n",
    "food.info()"
   ]
  },
  {
   "cell_type": "code",
   "execution_count": 33,
   "id": "f1ab879c",
   "metadata": {},
   "outputs": [
    {
     "data": {
      "text/plain": [
       "time_to_close           0\n",
       "claim_amount            0\n",
       "amount_paid             0\n",
       "location                0\n",
       "individuals_on_claim    0\n",
       "linked_cases            0\n",
       "cause                   0\n",
       "dtype: int64"
      ]
     },
     "execution_count": 33,
     "metadata": {},
     "output_type": "execute_result"
    }
   ],
   "source": [
    "food.isna().sum()"
   ]
  },
  {
   "cell_type": "markdown",
   "id": "bb0d1987",
   "metadata": {},
   "source": [
    "## Task 2: Visualizing Data"
   ]
  },
  {
   "cell_type": "markdown",
   "id": "e464fd74",
   "metadata": {},
   "source": [
    "#### Create a visualization that shows the number of claims in each location. Use the visualization to state which category of the variable location has the most observations\n",
    "Out of 2000 total claims, Recife received the most number of claims with 885, Sao Luis received 517, Fortaleza 311, and Natal 287. "
   ]
  },
  {
   "cell_type": "code",
   "execution_count": 40,
   "id": "e86cd554",
   "metadata": {},
   "outputs": [
    {
     "data": {
      "image/png": "[encoded data removed]",
      "text/plain": [
       "<Figure size 640x480 with 1 Axes>"
      ]
     },
     "metadata": {},
     "output_type": "display_data"
    }
   ],
   "source": [
    "import matplotlib.pyplot as plt\n",
    "import seaborn as sns\n",
    "\n",
    "sns.set_theme(style=\"whitegrid\")\n",
    "\n",
    "sns.histplot(data=food, x=\"location\", hue=\"location\", alpha=.8)\n",
    "\n",
    "plt.title(\"Number of Claims By Location\")\n",
    "plt.ylabel(\"Number of claims\")\n",
    "plt.xlabel(\"\")\n",
    "plt.legend(\"\")\n",
    "plt.show()"
   ]
  },
  {
   "cell_type": "markdown",
   "id": "83b1402e",
   "metadata": {},
   "source": [
    "#### b. Explain whether the \"claim amount\" is balanced across categories of the variable location\n",
    "The \"claim amount\" is consistent across the 4 locations:\n"
   ]
  },
  {
   "cell_type": "code",
   "execution_count": 38,
   "id": "c7faf052",
   "metadata": {},
   "outputs": [
    {
     "data": {
      "image/png": "[encoded data removed]",
      "text/plain": [
       "<Figure size 500x500 with 1 Axes>"
      ]
     },
     "metadata": {},
     "output_type": "display_data"
    }
   ],
   "source": [
    "sns.catplot(x='location', \n",
    "            y='claim_amount',\n",
    "            data=food,\n",
    "            kind='box',\n",
    "            sym='')\n",
    "\n",
    "plt.title(\"Claim Amount By Location\")\n",
    "plt.ylabel(\"Amount of Claim\")\n",
    "plt.xlabel(\"\")\n",
    "\n",
    "plt.show()"
   ]
  },
  {
   "cell_type": "markdown",
   "id": "a8296cc3",
   "metadata": {},
   "source": [
    "## Task 3"
   ]
  },
  {
   "cell_type": "markdown",
   "id": "0f081f7a",
   "metadata": {},
   "source": [
    "#### Describe the distribution of time to close for all claims. Your answer must include a visualization that shows the distribution.\n",
    "\n",
    "Time to close for all claims tends to take around 160-180 days and seems to be consistent across all 4 locations.\n",
    "\n",
    "\n"
   ]
  },
  {
   "cell_type": "code",
   "execution_count": 39,
   "id": "3cdba45d",
   "metadata": {},
   "outputs": [
    {
     "data": {
      "image/png": "[encoded data removed]",
      "text/plain": [
       "<Figure size 640x480 with 1 Axes>"
      ]
     },
     "metadata": {},
     "output_type": "display_data"
    }
   ],
   "source": [
    "sns.boxplot(data=food, x=\"time_to_close\", y=\"location\")\n",
    "plt.title(\"\")\n",
    "plt.xlabel(\"Time to close (days)\")\n",
    "plt.xlim(0, 400)\n",
    "plt.legend(\"\")\n",
    "plt.show()"
   ]
  }
 ],
 "metadata": {
  "kernelspec": {
   "display_name": "Python 3 (ipykernel)",
   "language": "python",
   "name": "python3"
  },
  "language_info": {
   "codemirror_mode": {
    "name": "ipython",
    "version": 3
   },
   "file_extension": ".py",
   "mimetype": "text/x-python",
   "name": "python",
   "nbconvert_exporter": "python",
   "pygments_lexer": "ipython3",
   "version": "3.9.13"
  }
 },
 "nbformat": 4,
 "nbformat_minor": 5
}
